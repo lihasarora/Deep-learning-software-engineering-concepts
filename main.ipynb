{
 "cells": [
  {
   "attachments": {},
   "cell_type": "markdown",
   "metadata": {},
   "source": [
    "## Installing requirements\n",
    "- This can be done by creating a requirements.txt file and installing all the libraries in one go"
   ]
  },
  {
   "cell_type": "code",
   "execution_count": 1,
   "metadata": {},
   "outputs": [],
   "source": [
    "%%capture\n",
    "%pip install -r requirements.txt\n",
    "%pip install pydot"
   ]
  },
  {
   "cell_type": "code",
   "execution_count": 2,
   "metadata": {},
   "outputs": [],
   "source": [
    "# Importing libraries\n",
    "import tensorflow as tf\n",
    "from tensorflow import keras\n",
    "import pandas as pd\n",
    "import matplotlib.pyplot as plt\n",
    "import numpy as np\n",
    "import sklearn\n",
    "import seaborn as sn\n",
    "import matplotlib.pyplot as plt\n",
    "from matrepr import mdisplay\n",
    "import warnings\n",
    "warnings.simplefilter(action='ignore', category=FutureWarning)\n",
    "\n",
    "# Set the device to CPU\n",
    "# for some reason, model training is slower on GPU here\n",
    "tf.config.set_visible_devices([], 'GPU')\n"
   ]
  },
  {
   "attachments": {},
   "cell_type": "markdown",
   "metadata": {},
   "source": [
    "## Simple classification with MNIST Dataset"
   ]
  },
  {
   "cell_type": "code",
   "execution_count": 3,
   "metadata": {},
   "outputs": [],
   "source": [
    "epochs = 200\n",
    "batch_size = 128\n",
    "nb_classes = 10\n",
    "n_hidden = 128\n",
    "validation_split = 0.2"
   ]
  },
  {
   "cell_type": "code",
   "execution_count": 4,
   "metadata": {},
   "outputs": [],
   "source": [
    "mnist = keras.datasets.mnist"
   ]
  },
  {
   "cell_type": "code",
   "execution_count": 5,
   "metadata": {},
   "outputs": [
    {
     "data": {
      "text/plain": [
       "'X_train.shape=(60000, 28, 28) & X_test.shape =(10000, 28, 28) '"
      ]
     },
     "execution_count": 5,
     "metadata": {},
     "output_type": "execute_result"
    }
   ],
   "source": [
    "(X_train,Y_train), (X_test, Y_test) = mnist.load_data()\n",
    "f\"{X_train.shape=} & {X_test.shape =} \""
   ]
  },
  {
   "cell_type": "code",
   "execution_count": 6,
   "metadata": {},
   "outputs": [],
   "source": [
    "# Each row is a digit\n",
    "X_train = X_train.reshape(60000,784)\n",
    "X_train = X_train.astype('float32')\n",
    "\n",
    "X_test = X_test.reshape(10000,784)\n",
    "X_test = X_test.astype('float32')"
   ]
  },
  {
   "cell_type": "code",
   "execution_count": 7,
   "metadata": {},
   "outputs": [],
   "source": [
    "# Normalize the input\n",
    "# Normalization helps with the gradient descent by providing equal updates to the weight vectors\n",
    "X_train = X_train/255\n",
    "X_test = X_test/255\n",
    "\n",
    "## Convert the y variables to OHE variables\n",
    "## OHE for Y labels --> Really cool\n",
    "Y_train = tf.keras.utils.to_categorical(Y_train, nb_classes)\n",
    "Y_test = tf.keras.utils.to_categorical(Y_test, nb_classes)"
   ]
  },
  {
   "cell_type": "code",
   "execution_count": 8,
   "metadata": {},
   "outputs": [
    {
     "name": "stdout",
     "output_type": "stream",
     "text": [
      "(array([0]),)\n"
     ]
    },
    {
     "data": {
      "text/plain": [
       "<matplotlib.image.AxesImage at 0x29ea27150>"
      ]
     },
     "execution_count": 8,
     "metadata": {},
     "output_type": "execute_result"
    },
    {
     "data": {
      "image/png": "[encoded data removed]",
      "text/plain": [
       "<Figure size 200x200 with 1 Axes>"
      ]
     },
     "metadata": {},
     "output_type": "display_data"
    }
   ],
   "source": [
    "r = 1028\n",
    "print(np.where(Y_train[r,:]==1))\n",
    "plt.figure(figsize = (2,2))\n",
    "plt.imshow(X_train[r,:].reshape((28,28)))\n"
   ]
  },
  {
   "cell_type": "code",
   "execution_count": 9,
   "metadata": {},
   "outputs": [
    {
     "name": "stdout",
     "output_type": "stream",
     "text": [
      "Model: \"sequential\"\n",
      "_________________________________________________________________\n",
      " Layer (type)                Output Shape              Param #   \n",
      "=================================================================\n",
      " D1 (Dense)                  (None, 10)                7850      \n",
      "                                                                 \n",
      "=================================================================\n",
      "Total params: 7850 (30.66 KB)\n",
      "Trainable params: 7850 (30.66 KB)\n",
      "Non-trainable params: 0 (0.00 Byte)\n",
      "_________________________________________________________________\n",
      "Epoch 1/50\n",
      "375/375 [==============================] - 0s 807us/step - loss: 1.3574 - accuracy: 0.6791 - val_loss: 0.8875 - val_accuracy: 0.8309\n",
      "Epoch 2/50\n",
      "375/375 [==============================] - 0s 600us/step - loss: 0.7890 - accuracy: 0.8284 - val_loss: 0.6548 - val_accuracy: 0.8582\n",
      "Epoch 3/50\n",
      "375/375 [==============================] - 0s 583us/step - loss: 0.6427 - accuracy: 0.8500 - val_loss: 0.5607 - val_accuracy: 0.8715\n",
      "Epoch 4/50\n",
      "375/375 [==============================] - 0s 587us/step - loss: 0.5717 - accuracy: 0.8604 - val_loss: 0.5088 - val_accuracy: 0.8787\n",
      "Epoch 5/50\n",
      "375/375 [==============================] - 0s 602us/step - loss: 0.5283 - accuracy: 0.8672 - val_loss: 0.4749 - val_accuracy: 0.8832\n",
      "Epoch 6/50\n",
      "375/375 [==============================] - 0s 610us/step - loss: 0.4982 - accuracy: 0.8732 - val_loss: 0.4512 - val_accuracy: 0.8873\n",
      "Epoch 7/50\n",
      "375/375 [==============================] - 0s 586us/step - loss: 0.4761 - accuracy: 0.8775 - val_loss: 0.4332 - val_accuracy: 0.8891\n",
      "Epoch 8/50\n",
      "375/375 [==============================] - 0s 587us/step - loss: 0.4588 - accuracy: 0.8801 - val_loss: 0.4190 - val_accuracy: 0.8914\n",
      "Epoch 9/50\n",
      "375/375 [==============================] - 0s 583us/step - loss: 0.4449 - accuracy: 0.8826 - val_loss: 0.4074 - val_accuracy: 0.8944\n",
      "Epoch 10/50\n",
      "375/375 [==============================] - 0s 584us/step - loss: 0.4332 - accuracy: 0.8849 - val_loss: 0.3981 - val_accuracy: 0.8954\n",
      "Epoch 11/50\n",
      "375/375 [==============================] - 0s 638us/step - loss: 0.4234 - accuracy: 0.8869 - val_loss: 0.3900 - val_accuracy: 0.8972\n",
      "Epoch 12/50\n",
      "375/375 [==============================] - 0s 582us/step - loss: 0.4150 - accuracy: 0.8884 - val_loss: 0.3830 - val_accuracy: 0.8989\n",
      "Epoch 13/50\n",
      "375/375 [==============================] - 0s 578us/step - loss: 0.4076 - accuracy: 0.8902 - val_loss: 0.3770 - val_accuracy: 0.8997\n",
      "Epoch 14/50\n",
      "375/375 [==============================] - 0s 624us/step - loss: 0.4011 - accuracy: 0.8920 - val_loss: 0.3715 - val_accuracy: 0.9015\n",
      "Epoch 15/50\n",
      "375/375 [==============================] - 0s 582us/step - loss: 0.3953 - accuracy: 0.8929 - val_loss: 0.3669 - val_accuracy: 0.9019\n",
      "Epoch 16/50\n",
      "375/375 [==============================] - 0s 578us/step - loss: 0.3900 - accuracy: 0.8942 - val_loss: 0.3626 - val_accuracy: 0.9029\n",
      "Epoch 17/50\n",
      "375/375 [==============================] - 0s 583us/step - loss: 0.3853 - accuracy: 0.8950 - val_loss: 0.3586 - val_accuracy: 0.9037\n",
      "Epoch 18/50\n",
      "375/375 [==============================] - 0s 582us/step - loss: 0.3810 - accuracy: 0.8960 - val_loss: 0.3550 - val_accuracy: 0.9038\n",
      "Epoch 19/50\n",
      "375/375 [==============================] - 0s 578us/step - loss: 0.3771 - accuracy: 0.8969 - val_loss: 0.3517 - val_accuracy: 0.9047\n",
      "Epoch 20/50\n",
      "375/375 [==============================] - 0s 581us/step - loss: 0.3734 - accuracy: 0.8978 - val_loss: 0.3488 - val_accuracy: 0.9055\n",
      "Epoch 21/50\n",
      "375/375 [==============================] - 0s 581us/step - loss: 0.3700 - accuracy: 0.8982 - val_loss: 0.3461 - val_accuracy: 0.9056\n",
      "Epoch 22/50\n",
      "375/375 [==============================] - 0s 588us/step - loss: 0.3669 - accuracy: 0.8989 - val_loss: 0.3436 - val_accuracy: 0.9062\n",
      "Epoch 23/50\n",
      "375/375 [==============================] - 0s 600us/step - loss: 0.3639 - accuracy: 0.8995 - val_loss: 0.3411 - val_accuracy: 0.9068\n",
      "Epoch 24/50\n",
      "375/375 [==============================] - 0s 599us/step - loss: 0.3612 - accuracy: 0.9003 - val_loss: 0.3388 - val_accuracy: 0.9078\n",
      "Epoch 25/50\n",
      "375/375 [==============================] - 0s 594us/step - loss: 0.3586 - accuracy: 0.9008 - val_loss: 0.3368 - val_accuracy: 0.9080\n",
      "Epoch 26/50\n",
      "375/375 [==============================] - 0s 582us/step - loss: 0.3562 - accuracy: 0.9016 - val_loss: 0.3350 - val_accuracy: 0.9087\n",
      "Epoch 27/50\n",
      "375/375 [==============================] - 0s 581us/step - loss: 0.3539 - accuracy: 0.9018 - val_loss: 0.3331 - val_accuracy: 0.9088\n",
      "Epoch 28/50\n",
      "375/375 [==============================] - 0s 577us/step - loss: 0.3517 - accuracy: 0.9027 - val_loss: 0.3314 - val_accuracy: 0.9093\n",
      "Epoch 29/50\n",
      "375/375 [==============================] - 0s 585us/step - loss: 0.3497 - accuracy: 0.9030 - val_loss: 0.3296 - val_accuracy: 0.9097\n",
      "Epoch 30/50\n",
      "375/375 [==============================] - 0s 579us/step - loss: 0.3478 - accuracy: 0.9037 - val_loss: 0.3280 - val_accuracy: 0.9100\n",
      "Epoch 31/50\n",
      "375/375 [==============================] - 0s 590us/step - loss: 0.3459 - accuracy: 0.9041 - val_loss: 0.3265 - val_accuracy: 0.9099\n",
      "Epoch 32/50\n",
      "375/375 [==============================] - 0s 581us/step - loss: 0.3442 - accuracy: 0.9046 - val_loss: 0.3251 - val_accuracy: 0.9105\n",
      "Epoch 33/50\n",
      "375/375 [==============================] - 0s 614us/step - loss: 0.3425 - accuracy: 0.9050 - val_loss: 0.3239 - val_accuracy: 0.9107\n",
      "Epoch 34/50\n",
      "375/375 [==============================] - 0s 600us/step - loss: 0.3409 - accuracy: 0.9055 - val_loss: 0.3225 - val_accuracy: 0.9113\n",
      "Epoch 35/50\n",
      "375/375 [==============================] - 0s 606us/step - loss: 0.3393 - accuracy: 0.9061 - val_loss: 0.3213 - val_accuracy: 0.9113\n",
      "Epoch 36/50\n",
      "375/375 [==============================] - 0s 589us/step - loss: 0.3378 - accuracy: 0.9062 - val_loss: 0.3202 - val_accuracy: 0.9112\n",
      "Epoch 37/50\n",
      "375/375 [==============================] - 0s 581us/step - loss: 0.3365 - accuracy: 0.9063 - val_loss: 0.3190 - val_accuracy: 0.9115\n",
      "Epoch 38/50\n",
      "375/375 [==============================] - 0s 596us/step - loss: 0.3351 - accuracy: 0.9071 - val_loss: 0.3180 - val_accuracy: 0.9121\n",
      "Epoch 39/50\n",
      "375/375 [==============================] - 0s 623us/step - loss: 0.3338 - accuracy: 0.9074 - val_loss: 0.3170 - val_accuracy: 0.9125\n",
      "Epoch 40/50\n",
      "375/375 [==============================] - 0s 651us/step - loss: 0.3325 - accuracy: 0.9078 - val_loss: 0.3160 - val_accuracy: 0.9131\n",
      "Epoch 41/50\n",
      "375/375 [==============================] - 0s 588us/step - loss: 0.3313 - accuracy: 0.9080 - val_loss: 0.3150 - val_accuracy: 0.9127\n",
      "Epoch 42/50\n",
      "375/375 [==============================] - 0s 622us/step - loss: 0.3301 - accuracy: 0.9082 - val_loss: 0.3142 - val_accuracy: 0.9125\n",
      "Epoch 43/50\n",
      "375/375 [==============================] - 0s 695us/step - loss: 0.3290 - accuracy: 0.9086 - val_loss: 0.3133 - val_accuracy: 0.9134\n",
      "Epoch 44/50\n",
      "375/375 [==============================] - 0s 632us/step - loss: 0.3279 - accuracy: 0.9088 - val_loss: 0.3124 - val_accuracy: 0.9140\n",
      "Epoch 45/50\n",
      "375/375 [==============================] - 0s 611us/step - loss: 0.3269 - accuracy: 0.9094 - val_loss: 0.3115 - val_accuracy: 0.9139\n",
      "Epoch 46/50\n",
      "375/375 [==============================] - 0s 608us/step - loss: 0.3259 - accuracy: 0.9096 - val_loss: 0.3107 - val_accuracy: 0.9142\n",
      "Epoch 47/50\n",
      "375/375 [==============================] - 0s 610us/step - loss: 0.3249 - accuracy: 0.9096 - val_loss: 0.3099 - val_accuracy: 0.9144\n",
      "Epoch 48/50\n",
      "375/375 [==============================] - 0s 638us/step - loss: 0.3239 - accuracy: 0.9099 - val_loss: 0.3092 - val_accuracy: 0.9144\n",
      "Epoch 49/50\n",
      "375/375 [==============================] - 0s 687us/step - loss: 0.3230 - accuracy: 0.9106 - val_loss: 0.3084 - val_accuracy: 0.9144\n",
      "Epoch 50/50\n",
      "375/375 [==============================] - 0s 627us/step - loss: 0.3221 - accuracy: 0.9105 - val_loss: 0.3078 - val_accuracy: 0.9143\n"
     ]
    }
   ],
   "source": [
    "import tensorflow as tf\n",
    "from tensorflow.keras import layers\n",
    "\n",
    "model = tf.keras.Sequential()\n",
    "\n",
    "# Add the layers to the model\n",
    "# it means that the input is a tensor of 784 -dimension\n",
    "# this is the way how we write it\n",
    "model.add(layers.Input(shape=(784,)))\n",
    "model.add(layers.Dense(units=10, activation = 'softmax', name = 'D1'))\n",
    "# Print the summary of the model\n",
    "model.summary()\n",
    "model.compile(loss=  'categorical_crossentropy', metrics = 'accuracy', optimizer = 'sgd')\n",
    "m0 = model.fit(X_train, Y_train, epochs =50, batch_size = 128, validation_split = 0.2, verbose = True)\n"
   ]
  },
  {
   "cell_type": "code",
   "execution_count": 10,
   "metadata": {},
   "outputs": [
    {
     "name": "stdout",
     "output_type": "stream",
     "text": [
      "PhysicalDevice(name='/physical_device:CPU:0', device_type='CPU')\n",
      "PhysicalDevice(name='/physical_device:GPU:0', device_type='GPU')\n"
     ]
    }
   ],
   "source": [
    "physical_devices = tf.config.list_physical_devices()\n",
    "for device in physical_devices:\n",
    "    print(device)"
   ]
  },
  {
   "attachments": {},
   "cell_type": "markdown",
   "metadata": {},
   "source": [
    "- Epoch is one complete traversal through the data\n",
    "- batch size = 128 means, at a time 128 examples of {Feature: Output} will be used to calculate the gradient. Total examples in training data = 60000 * 0.8 (accounting for validation data)/ 128 = 375\n",
    "- 375 indicates number of gradient descent steps that are taken at each epoc\n",
    "- The validation data in tensorflow remains same for each epoch: https://stackoverflow.com/questions/48810813/how-to-extract-train-and-validation-sets-in-keras"
   ]
  },
  {
   "cell_type": "code",
   "execution_count": 11,
   "metadata": {},
   "outputs": [
    {
     "name": "stdout",
     "output_type": "stream",
     "text": [
      "313/313 [==============================] - 0s 362us/step - loss: 0.3085 - accuracy: 0.9153\n",
      "0.9153000116348267\n",
      "313/313 [==============================] - 0s 286us/step\n",
      "              precision    recall  f1-score   support\n",
      "\n",
      "           0       0.94      0.98      0.96       980\n",
      "           1       0.96      0.97      0.97      1135\n",
      "           2       0.93      0.88      0.90      1032\n",
      "           3       0.90      0.91      0.90      1010\n",
      "           4       0.91      0.93      0.92       982\n",
      "           5       0.91      0.85      0.88       892\n",
      "           6       0.92      0.95      0.94       958\n",
      "           7       0.93      0.91      0.92      1028\n",
      "           8       0.87      0.88      0.87       974\n",
      "           9       0.89      0.89      0.89      1009\n",
      "\n",
      "    accuracy                           0.92     10000\n",
      "   macro avg       0.91      0.91      0.91     10000\n",
      "weighted avg       0.92      0.92      0.92     10000\n",
      "\n"
     ]
    }
   ],
   "source": [
    "from sklearn.metrics import accuracy_score, classification_report, confusion_matrix\n",
    "test_loss, test_acc = model.evaluate(X_test,Y_test)\n",
    "print(test_acc)\n",
    "print(classification_report(y_true = np.where(Y_test==1)[1], y_pred= np.argmax(model.predict(X_test), axis = 1)))"
   ]
  },
  {
   "cell_type": "code",
   "execution_count": 12,
   "metadata": {},
   "outputs": [
    {
     "name": "stdout",
     "output_type": "stream",
     "text": [
      "Epoch 1/50\n",
      "375/375 [==============================] - 0s 832us/step - loss: 1.5782 - accuracy: 0.5587 - val_loss: 0.9449 - val_accuracy: 0.8001\n",
      "Epoch 2/50\n",
      "375/375 [==============================] - 0s 640us/step - loss: 0.7495 - accuracy: 0.8242 - val_loss: 0.5721 - val_accuracy: 0.8622\n",
      "Epoch 3/50\n",
      "375/375 [==============================] - 0s 626us/step - loss: 0.5413 - accuracy: 0.8629 - val_loss: 0.4596 - val_accuracy: 0.8805\n",
      "Epoch 4/50\n",
      "375/375 [==============================] - 0s 628us/step - loss: 0.4613 - accuracy: 0.8780 - val_loss: 0.4071 - val_accuracy: 0.8908\n",
      "Epoch 5/50\n",
      "375/375 [==============================] - 0s 677us/step - loss: 0.4181 - accuracy: 0.8867 - val_loss: 0.3768 - val_accuracy: 0.8962\n",
      "Epoch 6/50\n",
      "375/375 [==============================] - 0s 658us/step - loss: 0.3906 - accuracy: 0.8928 - val_loss: 0.3560 - val_accuracy: 0.9018\n",
      "Epoch 7/50\n",
      "375/375 [==============================] - 0s 658us/step - loss: 0.3710 - accuracy: 0.8970 - val_loss: 0.3414 - val_accuracy: 0.9040\n",
      "Epoch 8/50\n",
      "375/375 [==============================] - 0s 668us/step - loss: 0.3562 - accuracy: 0.9008 - val_loss: 0.3294 - val_accuracy: 0.9087\n",
      "Epoch 9/50\n",
      "375/375 [==============================] - 0s 669us/step - loss: 0.3444 - accuracy: 0.9039 - val_loss: 0.3196 - val_accuracy: 0.9092\n",
      "Epoch 10/50\n",
      "375/375 [==============================] - 0s 657us/step - loss: 0.3347 - accuracy: 0.9062 - val_loss: 0.3123 - val_accuracy: 0.9121\n",
      "Epoch 11/50\n",
      "375/375 [==============================] - 0s 673us/step - loss: 0.3264 - accuracy: 0.9080 - val_loss: 0.3057 - val_accuracy: 0.9128\n",
      "Epoch 12/50\n",
      "375/375 [==============================] - 0s 655us/step - loss: 0.3191 - accuracy: 0.9098 - val_loss: 0.2995 - val_accuracy: 0.9152\n",
      "Epoch 13/50\n",
      "375/375 [==============================] - 0s 650us/step - loss: 0.3127 - accuracy: 0.9112 - val_loss: 0.2943 - val_accuracy: 0.9159\n",
      "Epoch 14/50\n",
      "375/375 [==============================] - 0s 658us/step - loss: 0.3071 - accuracy: 0.9133 - val_loss: 0.2898 - val_accuracy: 0.9167\n",
      "Epoch 15/50\n",
      "375/375 [==============================] - 0s 655us/step - loss: 0.3019 - accuracy: 0.9149 - val_loss: 0.2856 - val_accuracy: 0.9186\n",
      "Epoch 16/50\n",
      "375/375 [==============================] - 0s 657us/step - loss: 0.2970 - accuracy: 0.9157 - val_loss: 0.2819 - val_accuracy: 0.9194\n",
      "Epoch 17/50\n",
      "375/375 [==============================] - 0s 656us/step - loss: 0.2926 - accuracy: 0.9169 - val_loss: 0.2781 - val_accuracy: 0.9213\n",
      "Epoch 18/50\n",
      "375/375 [==============================] - 0s 653us/step - loss: 0.2885 - accuracy: 0.9181 - val_loss: 0.2749 - val_accuracy: 0.9219\n",
      "Epoch 19/50\n",
      "375/375 [==============================] - 0s 655us/step - loss: 0.2846 - accuracy: 0.9195 - val_loss: 0.2717 - val_accuracy: 0.9231\n",
      "Epoch 20/50\n",
      "375/375 [==============================] - 0s 649us/step - loss: 0.2810 - accuracy: 0.9204 - val_loss: 0.2687 - val_accuracy: 0.9228\n",
      "Epoch 21/50\n",
      "375/375 [==============================] - 0s 660us/step - loss: 0.2773 - accuracy: 0.9212 - val_loss: 0.2662 - val_accuracy: 0.9244\n",
      "Epoch 22/50\n",
      "375/375 [==============================] - 0s 647us/step - loss: 0.2740 - accuracy: 0.9227 - val_loss: 0.2634 - val_accuracy: 0.9251\n",
      "Epoch 23/50\n",
      "375/375 [==============================] - 0s 647us/step - loss: 0.2709 - accuracy: 0.9227 - val_loss: 0.2600 - val_accuracy: 0.9258\n",
      "Epoch 24/50\n",
      "375/375 [==============================] - 0s 651us/step - loss: 0.2677 - accuracy: 0.9235 - val_loss: 0.2580 - val_accuracy: 0.9269\n",
      "Epoch 25/50\n",
      "375/375 [==============================] - 0s 666us/step - loss: 0.2647 - accuracy: 0.9248 - val_loss: 0.2557 - val_accuracy: 0.9270\n",
      "Epoch 26/50\n",
      "375/375 [==============================] - 0s 659us/step - loss: 0.2618 - accuracy: 0.9255 - val_loss: 0.2530 - val_accuracy: 0.9277\n",
      "Epoch 27/50\n",
      "375/375 [==============================] - 0s 661us/step - loss: 0.2591 - accuracy: 0.9262 - val_loss: 0.2504 - val_accuracy: 0.9285\n",
      "Epoch 28/50\n",
      "375/375 [==============================] - 0s 669us/step - loss: 0.2563 - accuracy: 0.9274 - val_loss: 0.2483 - val_accuracy: 0.9294\n",
      "Epoch 29/50\n",
      "375/375 [==============================] - 0s 705us/step - loss: 0.2537 - accuracy: 0.9282 - val_loss: 0.2463 - val_accuracy: 0.9296\n",
      "Epoch 30/50\n",
      "375/375 [==============================] - 0s 714us/step - loss: 0.2512 - accuracy: 0.9287 - val_loss: 0.2440 - val_accuracy: 0.9311\n",
      "Epoch 31/50\n",
      "375/375 [==============================] - 0s 715us/step - loss: 0.2486 - accuracy: 0.9293 - val_loss: 0.2438 - val_accuracy: 0.9308\n",
      "Epoch 32/50\n",
      "375/375 [==============================] - 0s 648us/step - loss: 0.2464 - accuracy: 0.9301 - val_loss: 0.2400 - val_accuracy: 0.9319\n",
      "Epoch 33/50\n",
      "375/375 [==============================] - 0s 695us/step - loss: 0.2440 - accuracy: 0.9308 - val_loss: 0.2384 - val_accuracy: 0.9327\n",
      "Epoch 34/50\n",
      "375/375 [==============================] - 0s 684us/step - loss: 0.2418 - accuracy: 0.9312 - val_loss: 0.2366 - val_accuracy: 0.9328\n",
      "Epoch 35/50\n",
      "375/375 [==============================] - 0s 662us/step - loss: 0.2395 - accuracy: 0.9323 - val_loss: 0.2352 - val_accuracy: 0.9342\n",
      "Epoch 36/50\n",
      "375/375 [==============================] - 0s 701us/step - loss: 0.2374 - accuracy: 0.9325 - val_loss: 0.2332 - val_accuracy: 0.9341\n",
      "Epoch 37/50\n",
      "375/375 [==============================] - 0s 708us/step - loss: 0.2353 - accuracy: 0.9330 - val_loss: 0.2324 - val_accuracy: 0.9337\n",
      "Epoch 38/50\n",
      "375/375 [==============================] - 0s 679us/step - loss: 0.2333 - accuracy: 0.9337 - val_loss: 0.2298 - val_accuracy: 0.9357\n",
      "Epoch 39/50\n",
      "375/375 [==============================] - 0s 680us/step - loss: 0.2313 - accuracy: 0.9340 - val_loss: 0.2288 - val_accuracy: 0.9354\n",
      "Epoch 40/50\n",
      "375/375 [==============================] - 0s 669us/step - loss: 0.2294 - accuracy: 0.9344 - val_loss: 0.2274 - val_accuracy: 0.9349\n",
      "Epoch 41/50\n",
      "375/375 [==============================] - 0s 661us/step - loss: 0.2275 - accuracy: 0.9353 - val_loss: 0.2254 - val_accuracy: 0.9364\n",
      "Epoch 42/50\n",
      "375/375 [==============================] - 0s 653us/step - loss: 0.2257 - accuracy: 0.9354 - val_loss: 0.2241 - val_accuracy: 0.9367\n",
      "Epoch 43/50\n",
      "375/375 [==============================] - 0s 650us/step - loss: 0.2239 - accuracy: 0.9357 - val_loss: 0.2230 - val_accuracy: 0.9376\n",
      "Epoch 44/50\n",
      "375/375 [==============================] - 0s 653us/step - loss: 0.2221 - accuracy: 0.9362 - val_loss: 0.2212 - val_accuracy: 0.9386\n",
      "Epoch 45/50\n",
      "375/375 [==============================] - 0s 648us/step - loss: 0.2205 - accuracy: 0.9367 - val_loss: 0.2200 - val_accuracy: 0.9390\n",
      "Epoch 46/50\n",
      "375/375 [==============================] - 0s 649us/step - loss: 0.2187 - accuracy: 0.9374 - val_loss: 0.2186 - val_accuracy: 0.9391\n",
      "Epoch 47/50\n",
      "375/375 [==============================] - 0s 663us/step - loss: 0.2170 - accuracy: 0.9377 - val_loss: 0.2178 - val_accuracy: 0.9387\n",
      "Epoch 48/50\n",
      "375/375 [==============================] - 0s 658us/step - loss: 0.2153 - accuracy: 0.9377 - val_loss: 0.2168 - val_accuracy: 0.9398\n",
      "Epoch 49/50\n",
      "375/375 [==============================] - 0s 653us/step - loss: 0.2139 - accuracy: 0.9384 - val_loss: 0.2151 - val_accuracy: 0.9394\n",
      "Epoch 50/50\n",
      "375/375 [==============================] - 0s 658us/step - loss: 0.2123 - accuracy: 0.9388 - val_loss: 0.2139 - val_accuracy: 0.9397\n"
     ]
    }
   ],
   "source": [
    "# improving the model by adding one dense layer\n",
    "model = tf.keras.Sequential(\n",
    "    [\n",
    "        layers.Input(shape = (784,)),\n",
    "        layers.Dense(units = 20, activation = 'relu', name = 'D1'),\n",
    "        layers.Dense(units = 10, activation = 'softmax', name = 'D2')\n",
    "    ]\n",
    "    )\n",
    "model.compile(optimizer = 'SGD', loss =  'categorical_crossentropy', metrics = 'accuracy')\n",
    "%timeit\n",
    "m1 = model.fit(X_train, Y_train, validation_split = 0.2, batch_size = 128, epochs = 50)"
   ]
  },
  {
   "cell_type": "code",
   "execution_count": 13,
   "metadata": {},
   "outputs": [
    {
     "name": "stdout",
     "output_type": "stream",
     "text": [
      "Epoch 1/50\n",
      "375/375 [==============================] - 1s 1ms/step - loss: 1.7630 - accuracy: 0.4462 - val_loss: 1.1651 - val_accuracy: 0.6923\n",
      "Epoch 2/50\n",
      "375/375 [==============================] - 0s 728us/step - loss: 0.8855 - accuracy: 0.7616 - val_loss: 0.6691 - val_accuracy: 0.8177\n",
      "Epoch 3/50\n",
      "375/375 [==============================] - 0s 728us/step - loss: 0.6186 - accuracy: 0.8268 - val_loss: 0.5165 - val_accuracy: 0.8561\n",
      "Epoch 4/50\n",
      "375/375 [==============================] - 0s 718us/step - loss: 0.5041 - accuracy: 0.8581 - val_loss: 0.4325 - val_accuracy: 0.8781\n",
      "Epoch 5/50\n",
      "375/375 [==============================] - 0s 733us/step - loss: 0.4339 - accuracy: 0.8779 - val_loss: 0.3822 - val_accuracy: 0.8889\n",
      "Epoch 6/50\n",
      "375/375 [==============================] - 0s 747us/step - loss: 0.3908 - accuracy: 0.8898 - val_loss: 0.3491 - val_accuracy: 0.8992\n",
      "Epoch 7/50\n",
      "375/375 [==============================] - 0s 740us/step - loss: 0.3620 - accuracy: 0.8967 - val_loss: 0.3277 - val_accuracy: 0.9047\n",
      "Epoch 8/50\n",
      "375/375 [==============================] - 0s 754us/step - loss: 0.3413 - accuracy: 0.9026 - val_loss: 0.3102 - val_accuracy: 0.9102\n",
      "Epoch 9/50\n",
      "375/375 [==============================] - 0s 754us/step - loss: 0.3245 - accuracy: 0.9074 - val_loss: 0.2968 - val_accuracy: 0.9133\n",
      "Epoch 10/50\n",
      "375/375 [==============================] - 0s 737us/step - loss: 0.3110 - accuracy: 0.9112 - val_loss: 0.2853 - val_accuracy: 0.9160\n",
      "Epoch 11/50\n",
      "375/375 [==============================] - 0s 733us/step - loss: 0.2991 - accuracy: 0.9141 - val_loss: 0.2758 - val_accuracy: 0.9198\n",
      "Epoch 12/50\n",
      "375/375 [==============================] - 0s 725us/step - loss: 0.2886 - accuracy: 0.9171 - val_loss: 0.2670 - val_accuracy: 0.9231\n",
      "Epoch 13/50\n",
      "375/375 [==============================] - 0s 738us/step - loss: 0.2794 - accuracy: 0.9196 - val_loss: 0.2606 - val_accuracy: 0.9229\n",
      "Epoch 14/50\n",
      "375/375 [==============================] - 0s 742us/step - loss: 0.2704 - accuracy: 0.9227 - val_loss: 0.2512 - val_accuracy: 0.9268\n",
      "Epoch 15/50\n",
      "375/375 [==============================] - 0s 760us/step - loss: 0.2625 - accuracy: 0.9240 - val_loss: 0.2460 - val_accuracy: 0.9278\n",
      "Epoch 16/50\n",
      "375/375 [==============================] - 0s 733us/step - loss: 0.2552 - accuracy: 0.9263 - val_loss: 0.2405 - val_accuracy: 0.9297\n",
      "Epoch 17/50\n",
      "375/375 [==============================] - 0s 793us/step - loss: 0.2482 - accuracy: 0.9291 - val_loss: 0.2351 - val_accuracy: 0.9300\n",
      "Epoch 18/50\n",
      "375/375 [==============================] - 0s 734us/step - loss: 0.2418 - accuracy: 0.9306 - val_loss: 0.2272 - val_accuracy: 0.9343\n",
      "Epoch 19/50\n",
      "375/375 [==============================] - 0s 729us/step - loss: 0.2357 - accuracy: 0.9325 - val_loss: 0.2244 - val_accuracy: 0.9352\n",
      "Epoch 20/50\n",
      "375/375 [==============================] - 0s 731us/step - loss: 0.2297 - accuracy: 0.9340 - val_loss: 0.2181 - val_accuracy: 0.9364\n",
      "Epoch 21/50\n",
      "375/375 [==============================] - 0s 728us/step - loss: 0.2241 - accuracy: 0.9357 - val_loss: 0.2136 - val_accuracy: 0.9379\n",
      "Epoch 22/50\n",
      "375/375 [==============================] - 0s 727us/step - loss: 0.2187 - accuracy: 0.9375 - val_loss: 0.2098 - val_accuracy: 0.9400\n",
      "Epoch 23/50\n",
      "375/375 [==============================] - 0s 752us/step - loss: 0.2137 - accuracy: 0.9387 - val_loss: 0.2045 - val_accuracy: 0.9413\n",
      "Epoch 24/50\n",
      "375/375 [==============================] - 0s 741us/step - loss: 0.2085 - accuracy: 0.9404 - val_loss: 0.2011 - val_accuracy: 0.9420\n",
      "Epoch 25/50\n",
      "375/375 [==============================] - 0s 748us/step - loss: 0.2038 - accuracy: 0.9418 - val_loss: 0.1979 - val_accuracy: 0.9444\n",
      "Epoch 26/50\n",
      "375/375 [==============================] - 0s 713us/step - loss: 0.1993 - accuracy: 0.9436 - val_loss: 0.1954 - val_accuracy: 0.9434\n",
      "Epoch 27/50\n",
      "375/375 [==============================] - 0s 735us/step - loss: 0.1951 - accuracy: 0.9445 - val_loss: 0.1911 - val_accuracy: 0.9458\n",
      "Epoch 28/50\n",
      "375/375 [==============================] - 0s 726us/step - loss: 0.1912 - accuracy: 0.9451 - val_loss: 0.1874 - val_accuracy: 0.9465\n",
      "Epoch 29/50\n",
      "375/375 [==============================] - 0s 709us/step - loss: 0.1874 - accuracy: 0.9464 - val_loss: 0.1854 - val_accuracy: 0.9469\n",
      "Epoch 30/50\n",
      "375/375 [==============================] - 0s 725us/step - loss: 0.1838 - accuracy: 0.9476 - val_loss: 0.1825 - val_accuracy: 0.9477\n",
      "Epoch 31/50\n",
      "375/375 [==============================] - 0s 717us/step - loss: 0.1804 - accuracy: 0.9488 - val_loss: 0.1800 - val_accuracy: 0.9492\n",
      "Epoch 32/50\n",
      "375/375 [==============================] - 0s 723us/step - loss: 0.1773 - accuracy: 0.9492 - val_loss: 0.1795 - val_accuracy: 0.9485\n",
      "Epoch 33/50\n",
      "375/375 [==============================] - 0s 711us/step - loss: 0.1740 - accuracy: 0.9506 - val_loss: 0.1753 - val_accuracy: 0.9495\n",
      "Epoch 34/50\n",
      "375/375 [==============================] - 0s 706us/step - loss: 0.1710 - accuracy: 0.9505 - val_loss: 0.1735 - val_accuracy: 0.9503\n",
      "Epoch 35/50\n",
      "375/375 [==============================] - 0s 705us/step - loss: 0.1680 - accuracy: 0.9515 - val_loss: 0.1713 - val_accuracy: 0.9502\n",
      "Epoch 36/50\n",
      "375/375 [==============================] - 0s 717us/step - loss: 0.1653 - accuracy: 0.9524 - val_loss: 0.1698 - val_accuracy: 0.9512\n",
      "Epoch 37/50\n",
      "375/375 [==============================] - 0s 711us/step - loss: 0.1627 - accuracy: 0.9534 - val_loss: 0.1682 - val_accuracy: 0.9524\n",
      "Epoch 38/50\n",
      "375/375 [==============================] - 0s 706us/step - loss: 0.1603 - accuracy: 0.9536 - val_loss: 0.1659 - val_accuracy: 0.9519\n",
      "Epoch 39/50\n",
      "375/375 [==============================] - 0s 719us/step - loss: 0.1579 - accuracy: 0.9548 - val_loss: 0.1650 - val_accuracy: 0.9523\n",
      "Epoch 40/50\n",
      "375/375 [==============================] - 0s 709us/step - loss: 0.1553 - accuracy: 0.9553 - val_loss: 0.1632 - val_accuracy: 0.9533\n",
      "Epoch 41/50\n",
      "375/375 [==============================] - 0s 706us/step - loss: 0.1531 - accuracy: 0.9562 - val_loss: 0.1622 - val_accuracy: 0.9540\n",
      "Epoch 42/50\n",
      "375/375 [==============================] - 0s 710us/step - loss: 0.1508 - accuracy: 0.9567 - val_loss: 0.1611 - val_accuracy: 0.9546\n",
      "Epoch 43/50\n",
      "375/375 [==============================] - 0s 713us/step - loss: 0.1489 - accuracy: 0.9570 - val_loss: 0.1601 - val_accuracy: 0.9540\n",
      "Epoch 44/50\n",
      "375/375 [==============================] - 0s 709us/step - loss: 0.1468 - accuracy: 0.9574 - val_loss: 0.1583 - val_accuracy: 0.9555\n",
      "Epoch 45/50\n",
      "375/375 [==============================] - 0s 715us/step - loss: 0.1447 - accuracy: 0.9584 - val_loss: 0.1566 - val_accuracy: 0.9554\n",
      "Epoch 46/50\n",
      "375/375 [==============================] - 0s 713us/step - loss: 0.1427 - accuracy: 0.9584 - val_loss: 0.1548 - val_accuracy: 0.9557\n",
      "Epoch 47/50\n",
      "375/375 [==============================] - 0s 719us/step - loss: 0.1410 - accuracy: 0.9594 - val_loss: 0.1534 - val_accuracy: 0.9559\n",
      "Epoch 48/50\n",
      "375/375 [==============================] - 0s 718us/step - loss: 0.1390 - accuracy: 0.9597 - val_loss: 0.1542 - val_accuracy: 0.9550\n",
      "Epoch 49/50\n",
      "375/375 [==============================] - 0s 706us/step - loss: 0.1373 - accuracy: 0.9602 - val_loss: 0.1513 - val_accuracy: 0.9563\n",
      "Epoch 50/50\n",
      "375/375 [==============================] - 0s 711us/step - loss: 0.1355 - accuracy: 0.9604 - val_loss: 0.1514 - val_accuracy: 0.9569\n"
     ]
    }
   ],
   "source": [
    "## Add one more dense layer\n",
    "\n",
    "model = tf.keras.Sequential(\n",
    "    [\n",
    "        layers.Input(shape = (784,)),\n",
    "        layers.Dense(units = 32, activation = 'relu', name = 'D1'),\n",
    "        layers.Dense(units = 16, activation = 'relu', name = 'D2'),\n",
    "\n",
    "        layers.Dense(units = 10, activation = 'softmax', name = 'D3')\n",
    "    ]\n",
    "    )\n",
    "model.compile(optimizer = 'SGD', loss =  'categorical_crossentropy', metrics = 'accuracy')\n",
    "\n",
    "m2 = model.fit(X_train, Y_train, validation_split = 0.2, batch_size = 128, epochs = 50)"
   ]
  },
  {
   "attachments": {},
   "cell_type": "markdown",
   "metadata": {},
   "source": [
    "### Dense layer and Dropout\n",
    "- Dropout is a way to tackle overfitting similar to regularization\n",
    "- The idea behind dropout is that some output nodes are randomly dropped such that they don't take part in the model training\n",
    "- During <B>Training</B>, a dropout ratio is selected 'p'. p = 0 means all are dropped, p=1 means none is dropped\n",
    "- During testing: The weights will be overestimated for the neurons that were kept. Therefore, the weights are multiplied by p \n",
    "\n",
    "https://medium.com/analytics-vidhya/understanding-dropout-abe00504be82\n"
   ]
  },
  {
   "cell_type": "code",
   "execution_count": 14,
   "metadata": {},
   "outputs": [
    {
     "name": "stdout",
     "output_type": "stream",
     "text": [
      "Epoch 1/50\n",
      "375/375 [==============================] - 0s 908us/step - loss: 2.1045 - accuracy: 0.2194 - val_loss: 1.7188 - val_accuracy: 0.4857\n",
      "Epoch 2/50\n",
      "375/375 [==============================] - 0s 727us/step - loss: 1.6265 - accuracy: 0.4552 - val_loss: 1.1762 - val_accuracy: 0.7132\n",
      "Epoch 3/50\n",
      "375/375 [==============================] - 0s 735us/step - loss: 1.2846 - accuracy: 0.5717 - val_loss: 0.8435 - val_accuracy: 0.7820\n",
      "Epoch 4/50\n",
      "375/375 [==============================] - 0s 796us/step - loss: 1.0784 - accuracy: 0.6386 - val_loss: 0.6672 - val_accuracy: 0.8356\n",
      "Epoch 5/50\n",
      "375/375 [==============================] - 0s 734us/step - loss: 0.9542 - accuracy: 0.6827 - val_loss: 0.5736 - val_accuracy: 0.8635\n",
      "Epoch 6/50\n",
      "375/375 [==============================] - 0s 713us/step - loss: 0.8797 - accuracy: 0.7133 - val_loss: 0.5034 - val_accuracy: 0.8765\n",
      "Epoch 7/50\n",
      "375/375 [==============================] - 0s 691us/step - loss: 0.8200 - accuracy: 0.7349 - val_loss: 0.4593 - val_accuracy: 0.8845\n",
      "Epoch 8/50\n",
      "375/375 [==============================] - 0s 732us/step - loss: 0.7666 - accuracy: 0.7560 - val_loss: 0.4239 - val_accuracy: 0.8913\n",
      "Epoch 9/50\n",
      "375/375 [==============================] - 0s 721us/step - loss: 0.7405 - accuracy: 0.7643 - val_loss: 0.3969 - val_accuracy: 0.8957\n",
      "Epoch 10/50\n",
      "375/375 [==============================] - 0s 761us/step - loss: 0.7038 - accuracy: 0.7757 - val_loss: 0.3770 - val_accuracy: 0.8999\n",
      "Epoch 11/50\n",
      "375/375 [==============================] - 0s 756us/step - loss: 0.6775 - accuracy: 0.7845 - val_loss: 0.3629 - val_accuracy: 0.9012\n",
      "Epoch 12/50\n",
      "375/375 [==============================] - 0s 748us/step - loss: 0.6578 - accuracy: 0.7954 - val_loss: 0.3499 - val_accuracy: 0.9035\n",
      "Epoch 13/50\n",
      "375/375 [==============================] - 0s 729us/step - loss: 0.6448 - accuracy: 0.7979 - val_loss: 0.3382 - val_accuracy: 0.9052\n",
      "Epoch 14/50\n",
      "375/375 [==============================] - 0s 722us/step - loss: 0.6309 - accuracy: 0.8036 - val_loss: 0.3318 - val_accuracy: 0.9072\n",
      "Epoch 15/50\n",
      "375/375 [==============================] - 0s 726us/step - loss: 0.6121 - accuracy: 0.8083 - val_loss: 0.3227 - val_accuracy: 0.9092\n",
      "Epoch 16/50\n",
      "375/375 [==============================] - 0s 717us/step - loss: 0.6003 - accuracy: 0.8133 - val_loss: 0.3166 - val_accuracy: 0.9104\n",
      "Epoch 17/50\n",
      "375/375 [==============================] - 0s 713us/step - loss: 0.5877 - accuracy: 0.8141 - val_loss: 0.3114 - val_accuracy: 0.9118\n",
      "Epoch 18/50\n",
      "375/375 [==============================] - 0s 719us/step - loss: 0.5812 - accuracy: 0.8188 - val_loss: 0.3064 - val_accuracy: 0.9128\n",
      "Epoch 19/50\n",
      "375/375 [==============================] - 0s 719us/step - loss: 0.5724 - accuracy: 0.8213 - val_loss: 0.3016 - val_accuracy: 0.9153\n",
      "Epoch 20/50\n",
      "375/375 [==============================] - 0s 724us/step - loss: 0.5641 - accuracy: 0.8259 - val_loss: 0.2978 - val_accuracy: 0.9147\n",
      "Epoch 21/50\n",
      "375/375 [==============================] - 0s 725us/step - loss: 0.5576 - accuracy: 0.8251 - val_loss: 0.2922 - val_accuracy: 0.9164\n",
      "Epoch 22/50\n",
      "375/375 [==============================] - 0s 720us/step - loss: 0.5519 - accuracy: 0.8279 - val_loss: 0.2873 - val_accuracy: 0.9179\n",
      "Epoch 23/50\n",
      "375/375 [==============================] - 0s 716us/step - loss: 0.5445 - accuracy: 0.8310 - val_loss: 0.2851 - val_accuracy: 0.9187\n",
      "Epoch 24/50\n",
      "375/375 [==============================] - 0s 727us/step - loss: 0.5420 - accuracy: 0.8315 - val_loss: 0.2805 - val_accuracy: 0.9193\n",
      "Epoch 25/50\n",
      "375/375 [==============================] - 0s 718us/step - loss: 0.5311 - accuracy: 0.8368 - val_loss: 0.2770 - val_accuracy: 0.9207\n",
      "Epoch 26/50\n",
      "375/375 [==============================] - 0s 742us/step - loss: 0.5276 - accuracy: 0.8366 - val_loss: 0.2741 - val_accuracy: 0.9215\n",
      "Epoch 27/50\n",
      "375/375 [==============================] - 0s 719us/step - loss: 0.5249 - accuracy: 0.8361 - val_loss: 0.2734 - val_accuracy: 0.9212\n",
      "Epoch 28/50\n",
      "375/375 [==============================] - 0s 731us/step - loss: 0.5173 - accuracy: 0.8396 - val_loss: 0.2695 - val_accuracy: 0.9230\n",
      "Epoch 29/50\n",
      "375/375 [==============================] - 0s 726us/step - loss: 0.5117 - accuracy: 0.8403 - val_loss: 0.2664 - val_accuracy: 0.9236\n",
      "Epoch 30/50\n",
      "375/375 [==============================] - 0s 716us/step - loss: 0.5119 - accuracy: 0.8393 - val_loss: 0.2649 - val_accuracy: 0.9240\n",
      "Epoch 31/50\n",
      "375/375 [==============================] - 0s 715us/step - loss: 0.5106 - accuracy: 0.8410 - val_loss: 0.2644 - val_accuracy: 0.9240\n",
      "Epoch 32/50\n",
      "375/375 [==============================] - 0s 713us/step - loss: 0.5008 - accuracy: 0.8449 - val_loss: 0.2612 - val_accuracy: 0.9245\n",
      "Epoch 33/50\n",
      "375/375 [==============================] - 0s 721us/step - loss: 0.5039 - accuracy: 0.8439 - val_loss: 0.2586 - val_accuracy: 0.9253\n",
      "Epoch 34/50\n",
      "375/375 [==============================] - 0s 718us/step - loss: 0.4922 - accuracy: 0.8468 - val_loss: 0.2575 - val_accuracy: 0.9253\n",
      "Epoch 35/50\n",
      "375/375 [==============================] - 0s 732us/step - loss: 0.4941 - accuracy: 0.8461 - val_loss: 0.2550 - val_accuracy: 0.9261\n",
      "Epoch 36/50\n",
      "375/375 [==============================] - 0s 732us/step - loss: 0.4891 - accuracy: 0.8480 - val_loss: 0.2535 - val_accuracy: 0.9267\n",
      "Epoch 37/50\n",
      "375/375 [==============================] - 0s 720us/step - loss: 0.4890 - accuracy: 0.8495 - val_loss: 0.2516 - val_accuracy: 0.9275\n",
      "Epoch 38/50\n",
      "375/375 [==============================] - 0s 723us/step - loss: 0.4837 - accuracy: 0.8487 - val_loss: 0.2504 - val_accuracy: 0.9265\n",
      "Epoch 39/50\n",
      "375/375 [==============================] - 0s 729us/step - loss: 0.4829 - accuracy: 0.8509 - val_loss: 0.2480 - val_accuracy: 0.9283\n",
      "Epoch 40/50\n",
      "375/375 [==============================] - 0s 744us/step - loss: 0.4830 - accuracy: 0.8501 - val_loss: 0.2459 - val_accuracy: 0.9289\n",
      "Epoch 41/50\n",
      "375/375 [==============================] - 0s 747us/step - loss: 0.4802 - accuracy: 0.8511 - val_loss: 0.2445 - val_accuracy: 0.9305\n",
      "Epoch 42/50\n",
      "375/375 [==============================] - 0s 773us/step - loss: 0.4775 - accuracy: 0.8497 - val_loss: 0.2461 - val_accuracy: 0.9293\n",
      "Epoch 43/50\n",
      "375/375 [==============================] - 0s 740us/step - loss: 0.4729 - accuracy: 0.8509 - val_loss: 0.2411 - val_accuracy: 0.9314\n",
      "Epoch 44/50\n",
      "375/375 [==============================] - 0s 727us/step - loss: 0.4705 - accuracy: 0.8539 - val_loss: 0.2421 - val_accuracy: 0.9311\n",
      "Epoch 45/50\n",
      "375/375 [==============================] - 0s 800us/step - loss: 0.4708 - accuracy: 0.8532 - val_loss: 0.2384 - val_accuracy: 0.9320\n",
      "Epoch 46/50\n",
      "375/375 [==============================] - 0s 808us/step - loss: 0.4667 - accuracy: 0.8552 - val_loss: 0.2367 - val_accuracy: 0.9336\n",
      "Epoch 47/50\n",
      "375/375 [==============================] - 0s 764us/step - loss: 0.4645 - accuracy: 0.8560 - val_loss: 0.2361 - val_accuracy: 0.9320\n",
      "Epoch 48/50\n",
      "375/375 [==============================] - 0s 780us/step - loss: 0.4597 - accuracy: 0.8556 - val_loss: 0.2338 - val_accuracy: 0.9335\n",
      "Epoch 49/50\n",
      "375/375 [==============================] - 0s 745us/step - loss: 0.4597 - accuracy: 0.8554 - val_loss: 0.2329 - val_accuracy: 0.9342\n",
      "Epoch 50/50\n",
      "375/375 [==============================] - 0s 745us/step - loss: 0.4605 - accuracy: 0.8581 - val_loss: 0.2330 - val_accuracy: 0.9331\n"
     ]
    }
   ],
   "source": [
    "## Add one more dense layer\n",
    "\n",
    "model = tf.keras.Sequential(\n",
    "    [\n",
    "        layers.Input(shape = (784,)),\n",
    "        layers.Dense(units = 32, activation = 'relu', name = 'D1'),\n",
    "        tf.keras.layers.Dropout(rate = 0.5, seed = 42),\n",
    "        layers.Dense(units = 16, activation = 'relu', name = 'D2'),\n",
    "\n",
    "        layers.Dense(units = 10, activation = 'softmax', name = 'D3')\n",
    "    ]\n",
    "    )\n",
    "model.compile(optimizer = 'SGD', loss =  'categorical_crossentropy', metrics = 'accuracy')\n",
    "\n",
    "m3 = model.fit(X_train, Y_train, validation_split = 0.2, batch_size = 128, epochs = 50)"
   ]
  },
  {
   "cell_type": "code",
   "execution_count": 15,
   "metadata": {},
   "outputs": [
    {
     "name": "stdout",
     "output_type": "stream",
     "text": [
      "Epoch 1/50\n",
      "375/375 [==============================] - 1s 1ms/step - loss: 0.6175 - accuracy: 0.8206 - val_loss: 0.2629 - val_accuracy: 0.9273\n",
      "Epoch 2/50\n",
      "375/375 [==============================] - 0s 856us/step - loss: 0.2449 - accuracy: 0.9304 - val_loss: 0.2051 - val_accuracy: 0.9426\n",
      "Epoch 3/50\n",
      "375/375 [==============================] - 0s 835us/step - loss: 0.1961 - accuracy: 0.9429 - val_loss: 0.1838 - val_accuracy: 0.9472\n",
      "Epoch 4/50\n",
      "375/375 [==============================] - 0s 855us/step - loss: 0.1672 - accuracy: 0.9515 - val_loss: 0.1633 - val_accuracy: 0.9544\n",
      "Epoch 5/50\n",
      "375/375 [==============================] - 0s 840us/step - loss: 0.1465 - accuracy: 0.9575 - val_loss: 0.1547 - val_accuracy: 0.9561\n",
      "Epoch 6/50\n",
      "375/375 [==============================] - 0s 834us/step - loss: 0.1311 - accuracy: 0.9621 - val_loss: 0.1454 - val_accuracy: 0.9593\n",
      "Epoch 7/50\n",
      "375/375 [==============================] - 0s 865us/step - loss: 0.1169 - accuracy: 0.9668 - val_loss: 0.1352 - val_accuracy: 0.9611\n",
      "Epoch 8/50\n",
      "375/375 [==============================] - 0s 832us/step - loss: 0.1086 - accuracy: 0.9686 - val_loss: 0.1300 - val_accuracy: 0.9622\n",
      "Epoch 9/50\n",
      "375/375 [==============================] - 0s 826us/step - loss: 0.0988 - accuracy: 0.9713 - val_loss: 0.1317 - val_accuracy: 0.9605\n",
      "Epoch 10/50\n",
      "375/375 [==============================] - 0s 840us/step - loss: 0.0912 - accuracy: 0.9740 - val_loss: 0.1262 - val_accuracy: 0.9632\n",
      "Epoch 11/50\n",
      "375/375 [==============================] - 0s 836us/step - loss: 0.0859 - accuracy: 0.9755 - val_loss: 0.1221 - val_accuracy: 0.9638\n",
      "Epoch 12/50\n",
      "375/375 [==============================] - 0s 836us/step - loss: 0.0789 - accuracy: 0.9767 - val_loss: 0.1177 - val_accuracy: 0.9652\n",
      "Epoch 13/50\n",
      "375/375 [==============================] - 0s 848us/step - loss: 0.0736 - accuracy: 0.9784 - val_loss: 0.1175 - val_accuracy: 0.9662\n",
      "Epoch 14/50\n",
      "375/375 [==============================] - 0s 835us/step - loss: 0.0687 - accuracy: 0.9803 - val_loss: 0.1240 - val_accuracy: 0.9646\n",
      "Epoch 15/50\n",
      "375/375 [==============================] - 0s 839us/step - loss: 0.0641 - accuracy: 0.9815 - val_loss: 0.1212 - val_accuracy: 0.9641\n",
      "Epoch 16/50\n",
      "375/375 [==============================] - 0s 831us/step - loss: 0.0594 - accuracy: 0.9834 - val_loss: 0.1218 - val_accuracy: 0.9651\n",
      "Epoch 17/50\n",
      "375/375 [==============================] - 0s 823us/step - loss: 0.0564 - accuracy: 0.9829 - val_loss: 0.1221 - val_accuracy: 0.9654\n",
      "Epoch 18/50\n",
      "375/375 [==============================] - 0s 824us/step - loss: 0.0528 - accuracy: 0.9851 - val_loss: 0.1170 - val_accuracy: 0.9671\n",
      "Epoch 19/50\n",
      "375/375 [==============================] - 0s 838us/step - loss: 0.0500 - accuracy: 0.9856 - val_loss: 0.1256 - val_accuracy: 0.9651\n",
      "Epoch 20/50\n",
      "375/375 [==============================] - 0s 885us/step - loss: 0.0473 - accuracy: 0.9863 - val_loss: 0.1260 - val_accuracy: 0.9645\n",
      "Epoch 21/50\n",
      "375/375 [==============================] - 0s 837us/step - loss: 0.0449 - accuracy: 0.9869 - val_loss: 0.1289 - val_accuracy: 0.9656\n",
      "Epoch 22/50\n",
      "375/375 [==============================] - 0s 802us/step - loss: 0.0416 - accuracy: 0.9883 - val_loss: 0.1255 - val_accuracy: 0.9668\n",
      "Epoch 23/50\n",
      "375/375 [==============================] - 0s 814us/step - loss: 0.0395 - accuracy: 0.9886 - val_loss: 0.1325 - val_accuracy: 0.9635\n",
      "Epoch 24/50\n",
      "375/375 [==============================] - 0s 876us/step - loss: 0.0373 - accuracy: 0.9892 - val_loss: 0.1289 - val_accuracy: 0.9656\n",
      "Epoch 25/50\n",
      "375/375 [==============================] - 0s 809us/step - loss: 0.0343 - accuracy: 0.9904 - val_loss: 0.1291 - val_accuracy: 0.9663\n",
      "Epoch 26/50\n",
      "375/375 [==============================] - 0s 857us/step - loss: 0.0331 - accuracy: 0.9905 - val_loss: 0.1353 - val_accuracy: 0.9647\n",
      "Epoch 27/50\n",
      "375/375 [==============================] - 0s 808us/step - loss: 0.0313 - accuracy: 0.9909 - val_loss: 0.1390 - val_accuracy: 0.9631\n",
      "Epoch 28/50\n",
      "375/375 [==============================] - 0s 814us/step - loss: 0.0304 - accuracy: 0.9914 - val_loss: 0.1431 - val_accuracy: 0.9628\n",
      "Epoch 29/50\n",
      "375/375 [==============================] - 0s 798us/step - loss: 0.0287 - accuracy: 0.9917 - val_loss: 0.1408 - val_accuracy: 0.9645\n",
      "Epoch 30/50\n",
      "375/375 [==============================] - 0s 799us/step - loss: 0.0272 - accuracy: 0.9923 - val_loss: 0.1423 - val_accuracy: 0.9647\n",
      "Epoch 31/50\n",
      "375/375 [==============================] - 0s 796us/step - loss: 0.0256 - accuracy: 0.9929 - val_loss: 0.1448 - val_accuracy: 0.9637\n",
      "Epoch 32/50\n",
      "375/375 [==============================] - 0s 796us/step - loss: 0.0237 - accuracy: 0.9934 - val_loss: 0.1490 - val_accuracy: 0.9645\n",
      "Epoch 33/50\n",
      "375/375 [==============================] - 0s 820us/step - loss: 0.0213 - accuracy: 0.9944 - val_loss: 0.1516 - val_accuracy: 0.9648\n",
      "Epoch 34/50\n",
      "375/375 [==============================] - 0s 836us/step - loss: 0.0221 - accuracy: 0.9935 - val_loss: 0.1558 - val_accuracy: 0.9645\n",
      "Epoch 35/50\n",
      "375/375 [==============================] - 0s 825us/step - loss: 0.0201 - accuracy: 0.9946 - val_loss: 0.1575 - val_accuracy: 0.9643\n",
      "Epoch 36/50\n",
      "375/375 [==============================] - 0s 825us/step - loss: 0.0202 - accuracy: 0.9946 - val_loss: 0.1606 - val_accuracy: 0.9647\n",
      "Epoch 37/50\n",
      "375/375 [==============================] - 0s 825us/step - loss: 0.0202 - accuracy: 0.9942 - val_loss: 0.1596 - val_accuracy: 0.9658\n",
      "Epoch 38/50\n",
      "375/375 [==============================] - 0s 828us/step - loss: 0.0172 - accuracy: 0.9955 - val_loss: 0.1791 - val_accuracy: 0.9599\n",
      "Epoch 39/50\n",
      "375/375 [==============================] - 0s 827us/step - loss: 0.0160 - accuracy: 0.9960 - val_loss: 0.1675 - val_accuracy: 0.9643\n",
      "Epoch 40/50\n",
      "375/375 [==============================] - 0s 841us/step - loss: 0.0140 - accuracy: 0.9965 - val_loss: 0.1666 - val_accuracy: 0.9650\n",
      "Epoch 41/50\n",
      "375/375 [==============================] - 0s 842us/step - loss: 0.0147 - accuracy: 0.9962 - val_loss: 0.1691 - val_accuracy: 0.9636\n",
      "Epoch 42/50\n",
      "375/375 [==============================] - 0s 835us/step - loss: 0.0147 - accuracy: 0.9962 - val_loss: 0.1742 - val_accuracy: 0.9654\n",
      "Epoch 43/50\n",
      "375/375 [==============================] - 0s 835us/step - loss: 0.0139 - accuracy: 0.9962 - val_loss: 0.1838 - val_accuracy: 0.9628\n",
      "Epoch 44/50\n",
      "375/375 [==============================] - 0s 841us/step - loss: 0.0135 - accuracy: 0.9961 - val_loss: 0.1846 - val_accuracy: 0.9639\n",
      "Epoch 45/50\n",
      "375/375 [==============================] - 0s 831us/step - loss: 0.0120 - accuracy: 0.9969 - val_loss: 0.1862 - val_accuracy: 0.9647\n",
      "Epoch 46/50\n",
      "375/375 [==============================] - 0s 841us/step - loss: 0.0124 - accuracy: 0.9967 - val_loss: 0.1853 - val_accuracy: 0.9632\n",
      "Epoch 47/50\n",
      "375/375 [==============================] - 0s 838us/step - loss: 0.0095 - accuracy: 0.9980 - val_loss: 0.1848 - val_accuracy: 0.9645\n",
      "Epoch 48/50\n",
      "375/375 [==============================] - 0s 840us/step - loss: 0.0094 - accuracy: 0.9979 - val_loss: 0.1997 - val_accuracy: 0.9616\n",
      "Epoch 49/50\n",
      "375/375 [==============================] - 0s 841us/step - loss: 0.0105 - accuracy: 0.9971 - val_loss: 0.1999 - val_accuracy: 0.9617\n",
      "Epoch 50/50\n",
      "375/375 [==============================] - 0s 833us/step - loss: 0.0108 - accuracy: 0.9970 - val_loss: 0.2007 - val_accuracy: 0.9633\n",
      "Epoch 1/50\n",
      "375/375 [==============================] - 1s 942us/step - loss: 0.5980 - accuracy: 0.8377 - val_loss: 0.2909 - val_accuracy: 0.9163\n",
      "Epoch 2/50\n",
      "375/375 [==============================] - 0s 774us/step - loss: 0.2829 - accuracy: 0.9187 - val_loss: 0.2502 - val_accuracy: 0.9284\n",
      "Epoch 3/50\n",
      "375/375 [==============================] - 0s 778us/step - loss: 0.2329 - accuracy: 0.9328 - val_loss: 0.2099 - val_accuracy: 0.9403\n",
      "Epoch 4/50\n",
      "375/375 [==============================] - 0s 785us/step - loss: 0.2013 - accuracy: 0.9415 - val_loss: 0.1998 - val_accuracy: 0.9440\n",
      "Epoch 5/50\n",
      "375/375 [==============================] - 0s 828us/step - loss: 0.1786 - accuracy: 0.9476 - val_loss: 0.1827 - val_accuracy: 0.9485\n",
      "Epoch 6/50\n",
      "375/375 [==============================] - 0s 878us/step - loss: 0.1592 - accuracy: 0.9541 - val_loss: 0.1647 - val_accuracy: 0.9518\n",
      "Epoch 7/50\n",
      "375/375 [==============================] - 0s 822us/step - loss: 0.1438 - accuracy: 0.9576 - val_loss: 0.1558 - val_accuracy: 0.9544\n",
      "Epoch 8/50\n",
      "375/375 [==============================] - 0s 787us/step - loss: 0.1322 - accuracy: 0.9611 - val_loss: 0.1481 - val_accuracy: 0.9565\n",
      "Epoch 9/50\n",
      "375/375 [==============================] - 0s 768us/step - loss: 0.1210 - accuracy: 0.9647 - val_loss: 0.1441 - val_accuracy: 0.9566\n",
      "Epoch 10/50\n",
      "375/375 [==============================] - 0s 763us/step - loss: 0.1127 - accuracy: 0.9661 - val_loss: 0.1393 - val_accuracy: 0.9579\n",
      "Epoch 11/50\n",
      "375/375 [==============================] - 0s 768us/step - loss: 0.1050 - accuracy: 0.9686 - val_loss: 0.1422 - val_accuracy: 0.9578\n",
      "Epoch 12/50\n",
      "375/375 [==============================] - 0s 765us/step - loss: 0.0978 - accuracy: 0.9708 - val_loss: 0.1348 - val_accuracy: 0.9588\n",
      "Epoch 13/50\n",
      "375/375 [==============================] - 0s 788us/step - loss: 0.0928 - accuracy: 0.9723 - val_loss: 0.1329 - val_accuracy: 0.9596\n",
      "Epoch 14/50\n",
      "375/375 [==============================] - 0s 780us/step - loss: 0.0872 - accuracy: 0.9743 - val_loss: 0.1324 - val_accuracy: 0.9597\n",
      "Epoch 15/50\n",
      "375/375 [==============================] - 0s 777us/step - loss: 0.0830 - accuracy: 0.9752 - val_loss: 0.1332 - val_accuracy: 0.9600\n",
      "Epoch 16/50\n",
      "375/375 [==============================] - 0s 780us/step - loss: 0.0798 - accuracy: 0.9758 - val_loss: 0.1322 - val_accuracy: 0.9619\n",
      "Epoch 17/50\n",
      "375/375 [==============================] - 0s 774us/step - loss: 0.0759 - accuracy: 0.9777 - val_loss: 0.1294 - val_accuracy: 0.9616\n",
      "Epoch 18/50\n",
      "375/375 [==============================] - 0s 774us/step - loss: 0.0722 - accuracy: 0.9780 - val_loss: 0.1286 - val_accuracy: 0.9614\n",
      "Epoch 19/50\n",
      "375/375 [==============================] - 0s 778us/step - loss: 0.0695 - accuracy: 0.9790 - val_loss: 0.1313 - val_accuracy: 0.9628\n",
      "Epoch 20/50\n",
      "375/375 [==============================] - 0s 786us/step - loss: 0.0666 - accuracy: 0.9801 - val_loss: 0.1459 - val_accuracy: 0.9598\n",
      "Epoch 21/50\n",
      "375/375 [==============================] - 0s 776us/step - loss: 0.0644 - accuracy: 0.9803 - val_loss: 0.1329 - val_accuracy: 0.9619\n",
      "Epoch 22/50\n",
      "375/375 [==============================] - 0s 783us/step - loss: 0.0618 - accuracy: 0.9816 - val_loss: 0.1432 - val_accuracy: 0.9624\n",
      "Epoch 23/50\n",
      "375/375 [==============================] - 0s 769us/step - loss: 0.0594 - accuracy: 0.9824 - val_loss: 0.1417 - val_accuracy: 0.9598\n",
      "Epoch 24/50\n",
      "375/375 [==============================] - 0s 772us/step - loss: 0.0569 - accuracy: 0.9828 - val_loss: 0.1339 - val_accuracy: 0.9617\n",
      "Epoch 25/50\n",
      "375/375 [==============================] - 0s 779us/step - loss: 0.0552 - accuracy: 0.9834 - val_loss: 0.1347 - val_accuracy: 0.9628\n",
      "Epoch 26/50\n",
      "375/375 [==============================] - 0s 773us/step - loss: 0.0535 - accuracy: 0.9843 - val_loss: 0.1368 - val_accuracy: 0.9641\n",
      "Epoch 27/50\n",
      "375/375 [==============================] - 0s 769us/step - loss: 0.0518 - accuracy: 0.9843 - val_loss: 0.1382 - val_accuracy: 0.9624\n",
      "Epoch 28/50\n",
      "375/375 [==============================] - 0s 822us/step - loss: 0.0496 - accuracy: 0.9853 - val_loss: 0.1387 - val_accuracy: 0.9636\n",
      "Epoch 29/50\n",
      "375/375 [==============================] - 0s 774us/step - loss: 0.0473 - accuracy: 0.9855 - val_loss: 0.1401 - val_accuracy: 0.9648\n",
      "Epoch 30/50\n",
      "375/375 [==============================] - 0s 774us/step - loss: 0.0456 - accuracy: 0.9862 - val_loss: 0.1427 - val_accuracy: 0.9622\n",
      "Epoch 31/50\n",
      "375/375 [==============================] - 0s 771us/step - loss: 0.0439 - accuracy: 0.9868 - val_loss: 0.1422 - val_accuracy: 0.9634\n",
      "Epoch 32/50\n",
      "375/375 [==============================] - 0s 765us/step - loss: 0.0430 - accuracy: 0.9872 - val_loss: 0.1440 - val_accuracy: 0.9634\n",
      "Epoch 33/50\n",
      "375/375 [==============================] - 0s 761us/step - loss: 0.0410 - accuracy: 0.9877 - val_loss: 0.1496 - val_accuracy: 0.9622\n",
      "Epoch 34/50\n",
      "375/375 [==============================] - 0s 774us/step - loss: 0.0405 - accuracy: 0.9877 - val_loss: 0.1535 - val_accuracy: 0.9620\n",
      "Epoch 35/50\n",
      "375/375 [==============================] - 0s 771us/step - loss: 0.0381 - accuracy: 0.9891 - val_loss: 0.1481 - val_accuracy: 0.9626\n",
      "Epoch 36/50\n",
      "375/375 [==============================] - 0s 811us/step - loss: 0.0373 - accuracy: 0.9889 - val_loss: 0.1532 - val_accuracy: 0.9635\n",
      "Epoch 37/50\n",
      "375/375 [==============================] - 0s 772us/step - loss: 0.0355 - accuracy: 0.9897 - val_loss: 0.1602 - val_accuracy: 0.9610\n",
      "Epoch 38/50\n",
      "375/375 [==============================] - 0s 779us/step - loss: 0.0343 - accuracy: 0.9901 - val_loss: 0.1593 - val_accuracy: 0.9623\n",
      "Epoch 39/50\n",
      "375/375 [==============================] - 0s 774us/step - loss: 0.0333 - accuracy: 0.9903 - val_loss: 0.1635 - val_accuracy: 0.9622\n",
      "Epoch 40/50\n",
      "375/375 [==============================] - 0s 775us/step - loss: 0.0318 - accuracy: 0.9909 - val_loss: 0.1732 - val_accuracy: 0.9595\n",
      "Epoch 41/50\n",
      "375/375 [==============================] - 0s 788us/step - loss: 0.0310 - accuracy: 0.9905 - val_loss: 0.1591 - val_accuracy: 0.9637\n",
      "Epoch 42/50\n",
      "375/375 [==============================] - 0s 820us/step - loss: 0.0298 - accuracy: 0.9913 - val_loss: 0.1813 - val_accuracy: 0.9615\n",
      "Epoch 43/50\n",
      "375/375 [==============================] - 0s 768us/step - loss: 0.0287 - accuracy: 0.9914 - val_loss: 0.1714 - val_accuracy: 0.9621\n",
      "Epoch 44/50\n",
      "375/375 [==============================] - 0s 780us/step - loss: 0.0283 - accuracy: 0.9920 - val_loss: 0.1779 - val_accuracy: 0.9589\n",
      "Epoch 45/50\n",
      "375/375 [==============================] - 0s 767us/step - loss: 0.0272 - accuracy: 0.9920 - val_loss: 0.1716 - val_accuracy: 0.9642\n",
      "Epoch 46/50\n",
      "375/375 [==============================] - 0s 761us/step - loss: 0.0257 - accuracy: 0.9927 - val_loss: 0.1813 - val_accuracy: 0.9627\n",
      "Epoch 47/50\n",
      "375/375 [==============================] - 0s 764us/step - loss: 0.0252 - accuracy: 0.9926 - val_loss: 0.1795 - val_accuracy: 0.9609\n",
      "Epoch 48/50\n",
      "375/375 [==============================] - 0s 767us/step - loss: 0.0237 - accuracy: 0.9933 - val_loss: 0.1822 - val_accuracy: 0.9617\n",
      "Epoch 49/50\n",
      "375/375 [==============================] - 0s 773us/step - loss: 0.0239 - accuracy: 0.9931 - val_loss: 0.1899 - val_accuracy: 0.9617\n",
      "Epoch 50/50\n",
      "375/375 [==============================] - 0s 769us/step - loss: 0.0227 - accuracy: 0.9929 - val_loss: 0.1876 - val_accuracy: 0.9617\n"
     ]
    }
   ],
   "source": [
    "# Effect of optimization algorithms on the training process\n",
    "## Add one more dense layer\n",
    "\n",
    "model = tf.keras.Sequential(\n",
    "    [\n",
    "        layers.Input(shape = (784,)),\n",
    "        layers.Dense(units = 32, activation = 'relu', name = 'D1'),\n",
    "        layers.Dense(units = 16, activation = 'relu', name = 'D2'),\n",
    "\n",
    "        layers.Dense(units = 10, activation = 'softmax', name = 'D3')\n",
    "    ]\n",
    "    )\n",
    "model.compile(optimizer = 'Adam', loss =  'categorical_crossentropy', metrics = 'accuracy')\n",
    "\n",
    "m4 = model.fit(X_train, Y_train, validation_split = 0.2, batch_size = 128, epochs = 50)\n",
    "\n",
    "# Effect of optimization algorithms on the training process\n",
    "## Add one more dense layer\n",
    "\n",
    "model = tf.keras.Sequential(\n",
    "    [\n",
    "        layers.Input(shape = (784,)),\n",
    "        layers.Dense(units = 32, activation = 'relu', name = 'D1'),\n",
    "        layers.Dense(units = 16, activation = 'relu', name = 'D2'),\n",
    "\n",
    "        layers.Dense(units = 10, activation = 'softmax', name = 'D3')\n",
    "    ]\n",
    "    )\n",
    "model.compile(optimizer = 'RMSprop', loss =  'categorical_crossentropy', metrics = 'accuracy')\n",
    "\n",
    "m5 = model.fit(X_train, Y_train, validation_split = 0.2, batch_size = 128, epochs = 50)"
   ]
  },
  {
   "attachments": {},
   "cell_type": "markdown",
   "metadata": {},
   "source": [
    "### Regularization\n",
    "\n",
    "This is used to combat the overfitting problem. It helps in two ways:\n",
    "- Choosing a simple model means easier to train (less computationally demanding)\n",
    "- Better generalization power\n",
    "\n",
    "Model is nothing but a vector of weights. Complexity can be controlled by setting some weights to either zero or very close to zero.\n",
    "\n",
    "The objective function of training is : $Obj\\space = min(Loss_{training} | Model)$\n",
    "\n",
    "\n",
    "To incorporate the regularizartion, this is modified to :\n",
    "$Obj\\space = min(Loss_{training} | Model) \\space + \\lambda* Complexity_{model}$\n",
    "\n",
    "Here $\\lambda $ can be used as a hyperparameter to indicate how much we want to weigh in complexity in the objective function\n",
    "\n",
    "\n",
    "Types of regularizers: https://stats.stackexchange.com/questions/383310/what-is-the-difference-between-kernel-bias-and-activity-regulizers-and-when-t\n",
    "\n",
    "- There are three type of regularizers in Keras:\n",
    "    You have the regression equation 𝑦=𝑊𝑥+𝑏, where 𝑥 is the input, 𝑊 the weights matrix and 𝑏 the bias.\n",
    "\n",
    "    - Kernel Regularizer: Tries to reduce the weights 𝑊 (excluding bias).\n",
    "    - Bias Regularizer: Tries to reduce the bias 𝑏.\n",
    "    - Activity Regularizer: Tries to reduce the layer's output 𝑦, thus will reduce the weights and adjust bias so 𝑊𝑥+𝑏 is smallest.\n",
    "\n",
    "- The concept of Batch Normalization (https://www.youtube.com/watch?v=1XMjfhEFbFA)\n",
    " - Consider a deep neural network. In a DNN, we typically use a version of mini-match algorithm to train. This means that we use a batch-size to train our models\n",
    " - What would happen if distribution of inputs change with each batch?\n",
    "    - This is bad because we will have to keep on constantly adjust to the new distribution\n",
    "        - Solution: What if we make the data gaussian at the input of each layer?\n",
    "        - For a mini batch, for input to each layer, apply a normalization function to transform it to 0 mean 1 variance: $ \\hat{S}_i = (S_i - E[S_i])/\\sqrt{var(S_i)}$ \n",
    "        - What if this is not right? How to account for that?\n",
    "        - Provide the freedom to the network to adjust back, if required  i.e. learn the output as  - $y_k   = \\gamma_k * \\hat{S_{ik}} + \\beta_k$ where $y_k$ is the output of the kth layer ; $\\gamma_k , \\beta_k$ are learnable parameters. Meaning, for each layer we will have 2 set of parameters that will be learnt and 2 set of parameters that will not be learnt (mean and variance to apply to the input)"
   ]
  },
  {
   "cell_type": "code",
   "execution_count": 16,
   "metadata": {},
   "outputs": [
    {
     "name": "stdout",
     "output_type": "stream",
     "text": [
      "Epoch 1/50\n",
      "375/375 [==============================] - 0s 898us/step - loss: 2.4821 - accuracy: 0.3978 - val_loss: 1.9772 - val_accuracy: 0.6901\n",
      "Epoch 2/50\n",
      "375/375 [==============================] - 0s 709us/step - loss: 1.6798 - accuracy: 0.7624 - val_loss: 1.4095 - val_accuracy: 0.8267\n",
      "Epoch 3/50\n",
      "375/375 [==============================] - 0s 704us/step - loss: 1.3036 - accuracy: 0.8364 - val_loss: 1.1549 - val_accuracy: 0.8673\n",
      "Epoch 4/50\n",
      "375/375 [==============================] - 0s 719us/step - loss: 1.0997 - accuracy: 0.8675 - val_loss: 0.9930 - val_accuracy: 0.8870\n",
      "Epoch 5/50\n",
      "375/375 [==============================] - 0s 705us/step - loss: 0.9602 - accuracy: 0.8844 - val_loss: 0.8780 - val_accuracy: 0.8955\n",
      "Epoch 6/50\n",
      "375/375 [==============================] - 0s 705us/step - loss: 0.8561 - accuracy: 0.8939 - val_loss: 0.7887 - val_accuracy: 0.9049\n",
      "Epoch 7/50\n",
      "375/375 [==============================] - 0s 704us/step - loss: 0.7739 - accuracy: 0.9027 - val_loss: 0.7178 - val_accuracy: 0.9122\n",
      "Epoch 8/50\n",
      "375/375 [==============================] - 0s 702us/step - loss: 0.7068 - accuracy: 0.9089 - val_loss: 0.6585 - val_accuracy: 0.9166\n",
      "Epoch 9/50\n",
      "375/375 [==============================] - 0s 702us/step - loss: 0.6507 - accuracy: 0.9131 - val_loss: 0.6089 - val_accuracy: 0.9208\n",
      "Epoch 10/50\n",
      "375/375 [==============================] - 0s 710us/step - loss: 0.6035 - accuracy: 0.9172 - val_loss: 0.5671 - val_accuracy: 0.9236\n",
      "Epoch 11/50\n",
      "375/375 [==============================] - 0s 705us/step - loss: 0.5630 - accuracy: 0.9209 - val_loss: 0.5307 - val_accuracy: 0.9274\n",
      "Epoch 12/50\n",
      "375/375 [==============================] - 0s 709us/step - loss: 0.5286 - accuracy: 0.9241 - val_loss: 0.5007 - val_accuracy: 0.9302\n",
      "Epoch 13/50\n",
      "375/375 [==============================] - 0s 703us/step - loss: 0.4984 - accuracy: 0.9266 - val_loss: 0.4730 - val_accuracy: 0.9323\n",
      "Epoch 14/50\n",
      "375/375 [==============================] - 0s 742us/step - loss: 0.4720 - accuracy: 0.9294 - val_loss: 0.4485 - val_accuracy: 0.9344\n",
      "Epoch 15/50\n",
      "375/375 [==============================] - 0s 706us/step - loss: 0.4492 - accuracy: 0.9317 - val_loss: 0.4281 - val_accuracy: 0.9365\n",
      "Epoch 16/50\n",
      "375/375 [==============================] - 0s 710us/step - loss: 0.4288 - accuracy: 0.9336 - val_loss: 0.4097 - val_accuracy: 0.9380\n",
      "Epoch 17/50\n",
      "375/375 [==============================] - 0s 760us/step - loss: 0.4106 - accuracy: 0.9354 - val_loss: 0.3941 - val_accuracy: 0.9387\n",
      "Epoch 18/50\n",
      "375/375 [==============================] - 0s 732us/step - loss: 0.3942 - accuracy: 0.9378 - val_loss: 0.3790 - val_accuracy: 0.9410\n",
      "Epoch 19/50\n",
      "375/375 [==============================] - 0s 706us/step - loss: 0.3799 - accuracy: 0.9393 - val_loss: 0.3663 - val_accuracy: 0.9427\n",
      "Epoch 20/50\n",
      "375/375 [==============================] - 0s 697us/step - loss: 0.3669 - accuracy: 0.9400 - val_loss: 0.3552 - val_accuracy: 0.9438\n",
      "Epoch 21/50\n",
      "375/375 [==============================] - 0s 707us/step - loss: 0.3551 - accuracy: 0.9419 - val_loss: 0.3452 - val_accuracy: 0.9448\n",
      "Epoch 22/50\n",
      "375/375 [==============================] - 0s 701us/step - loss: 0.3443 - accuracy: 0.9433 - val_loss: 0.3361 - val_accuracy: 0.9456\n",
      "Epoch 23/50\n",
      "375/375 [==============================] - 0s 698us/step - loss: 0.3346 - accuracy: 0.9445 - val_loss: 0.3277 - val_accuracy: 0.9464\n",
      "Epoch 24/50\n",
      "375/375 [==============================] - 0s 708us/step - loss: 0.3261 - accuracy: 0.9463 - val_loss: 0.3189 - val_accuracy: 0.9477\n",
      "Epoch 25/50\n",
      "375/375 [==============================] - 0s 708us/step - loss: 0.3176 - accuracy: 0.9470 - val_loss: 0.3146 - val_accuracy: 0.9478\n",
      "Epoch 26/50\n",
      "375/375 [==============================] - 0s 702us/step - loss: 0.3103 - accuracy: 0.9480 - val_loss: 0.3048 - val_accuracy: 0.9508\n",
      "Epoch 27/50\n",
      "375/375 [==============================] - 0s 699us/step - loss: 0.3034 - accuracy: 0.9490 - val_loss: 0.2992 - val_accuracy: 0.9498\n",
      "Epoch 28/50\n",
      "375/375 [==============================] - 0s 771us/step - loss: 0.2969 - accuracy: 0.9501 - val_loss: 0.2932 - val_accuracy: 0.9508\n",
      "Epoch 29/50\n",
      "375/375 [==============================] - 0s 705us/step - loss: 0.2911 - accuracy: 0.9504 - val_loss: 0.2887 - val_accuracy: 0.9520\n",
      "Epoch 30/50\n",
      "375/375 [==============================] - 0s 697us/step - loss: 0.2857 - accuracy: 0.9519 - val_loss: 0.2837 - val_accuracy: 0.9528\n",
      "Epoch 31/50\n",
      "375/375 [==============================] - 0s 707us/step - loss: 0.2804 - accuracy: 0.9528 - val_loss: 0.2781 - val_accuracy: 0.9542\n",
      "Epoch 32/50\n",
      "375/375 [==============================] - 0s 708us/step - loss: 0.2757 - accuracy: 0.9532 - val_loss: 0.2754 - val_accuracy: 0.9541\n",
      "Epoch 33/50\n",
      "375/375 [==============================] - 0s 699us/step - loss: 0.2714 - accuracy: 0.9538 - val_loss: 0.2709 - val_accuracy: 0.9548\n",
      "Epoch 34/50\n",
      "375/375 [==============================] - 0s 704us/step - loss: 0.2668 - accuracy: 0.9546 - val_loss: 0.2681 - val_accuracy: 0.9558\n",
      "Epoch 35/50\n",
      "375/375 [==============================] - 0s 706us/step - loss: 0.2632 - accuracy: 0.9550 - val_loss: 0.2632 - val_accuracy: 0.9563\n",
      "Epoch 36/50\n",
      "375/375 [==============================] - 0s 703us/step - loss: 0.2590 - accuracy: 0.9558 - val_loss: 0.2594 - val_accuracy: 0.9570\n",
      "Epoch 37/50\n",
      "375/375 [==============================] - 0s 698us/step - loss: 0.2558 - accuracy: 0.9560 - val_loss: 0.2585 - val_accuracy: 0.9563\n",
      "Epoch 38/50\n",
      "375/375 [==============================] - 0s 704us/step - loss: 0.2523 - accuracy: 0.9569 - val_loss: 0.2560 - val_accuracy: 0.9582\n",
      "Epoch 39/50\n",
      "375/375 [==============================] - 0s 702us/step - loss: 0.2490 - accuracy: 0.9574 - val_loss: 0.2532 - val_accuracy: 0.9567\n",
      "Epoch 40/50\n",
      "375/375 [==============================] - 0s 707us/step - loss: 0.2463 - accuracy: 0.9575 - val_loss: 0.2494 - val_accuracy: 0.9578\n",
      "Epoch 41/50\n",
      "375/375 [==============================] - 0s 715us/step - loss: 0.2432 - accuracy: 0.9583 - val_loss: 0.2471 - val_accuracy: 0.9582\n",
      "Epoch 42/50\n",
      "375/375 [==============================] - 0s 699us/step - loss: 0.2405 - accuracy: 0.9589 - val_loss: 0.2452 - val_accuracy: 0.9579\n",
      "Epoch 43/50\n",
      "375/375 [==============================] - 0s 710us/step - loss: 0.2378 - accuracy: 0.9598 - val_loss: 0.2423 - val_accuracy: 0.9591\n",
      "Epoch 44/50\n",
      "375/375 [==============================] - 0s 704us/step - loss: 0.2355 - accuracy: 0.9597 - val_loss: 0.2402 - val_accuracy: 0.9590\n",
      "Epoch 45/50\n",
      "375/375 [==============================] - 0s 747us/step - loss: 0.2328 - accuracy: 0.9604 - val_loss: 0.2399 - val_accuracy: 0.9583\n",
      "Epoch 46/50\n",
      "375/375 [==============================] - 0s 702us/step - loss: 0.2307 - accuracy: 0.9609 - val_loss: 0.2352 - val_accuracy: 0.9598\n",
      "Epoch 47/50\n",
      "375/375 [==============================] - 0s 705us/step - loss: 0.2285 - accuracy: 0.9610 - val_loss: 0.2331 - val_accuracy: 0.9597\n",
      "Epoch 48/50\n",
      "375/375 [==============================] - 0s 704us/step - loss: 0.2261 - accuracy: 0.9616 - val_loss: 0.2327 - val_accuracy: 0.9588\n",
      "Epoch 49/50\n",
      "375/375 [==============================] - 0s 705us/step - loss: 0.2242 - accuracy: 0.9618 - val_loss: 0.2316 - val_accuracy: 0.9593\n",
      "Epoch 50/50\n",
      "375/375 [==============================] - 0s 711us/step - loss: 0.2221 - accuracy: 0.9622 - val_loss: 0.2301 - val_accuracy: 0.9605\n"
     ]
    }
   ],
   "source": [
    "from keras.regularizers import l1,l2\n",
    "\n",
    "model = tf.keras.Sequential(\n",
    "    [\n",
    "        layers.Input(shape = (784,)),\n",
    "        layers.Dense(units = 32, activation = 'relu', name = 'D1', kernel_regularizer = l2(0.01), activity_regularizer = l2(0.01), bias_regularizer = l1(0.01)),\n",
    "        layers.Dense(units = 16, activation = 'relu', name = 'D2'),\n",
    "\n",
    "        layers.Dense(units = 10, activation = 'softmax', name = 'D3')\n",
    "    ]\n",
    "    )\n",
    "model.compile(optimizer = 'SGD', loss =  'categorical_crossentropy', metrics = 'accuracy')\n",
    "\n",
    "m6 = model.fit(X_train, Y_train, validation_split = 0.2, batch_size = 128, epochs = 50)\n",
    "\n"
   ]
  },
  {
   "cell_type": "code",
   "execution_count": 17,
   "metadata": {},
   "outputs": [
    {
     "name": "stdout",
     "output_type": "stream",
     "text": [
      "Model: \"sequential_7\"\n",
      "_________________________________________________________________\n",
      " Layer (type)                Output Shape              Param #   \n",
      "=================================================================\n",
      " D1 (Dense)                  (None, 32)                25120     \n",
      "                                                                 \n",
      " batch_normalization (Batch  (None, 32)                128       \n",
      " Normalization)                                                  \n",
      "                                                                 \n",
      " D2 (Dense)                  (None, 16)                528       \n",
      "                                                                 \n",
      " batch_normalization_1 (Bat  (None, 16)                64        \n",
      " chNormalization)                                                \n",
      "                                                                 \n",
      " D3 (Dense)                  (None, 10)                170       \n",
      "                                                                 \n",
      "=================================================================\n",
      "Total params: 26010 (101.60 KB)\n",
      "Trainable params: 25914 (101.23 KB)\n",
      "Non-trainable params: 96 (384.00 Byte)\n",
      "_________________________________________________________________\n",
      "None\n"
     ]
    }
   ],
   "source": [
    "from tensorflow.keras.layers import BatchNormalization\n",
    "\n",
    "model = tf.keras.Sequential(\n",
    "    [\n",
    "        layers.Input(shape = (784,)),\n",
    "        \n",
    "        layers.Dense(units = 32, activation = 'relu', name = 'D1'),\n",
    "        BatchNormalization(),\n",
    "        layers.Dense(units = 16, activation = 'relu', name = 'D2'),\n",
    "        BatchNormalization(),\n",
    "        layers.Dense(units = 10, activation = 'softmax', name = 'D3')\n",
    "    ]\n",
    "    )\n",
    "model.compile(optimizer = 'SGD', loss =  'categorical_crossentropy', metrics = 'accuracy')\n",
    "print(model.summary())\n",
    "# m7 = model.fit(X_train, Y_train, validation_split = 0.2, batch_size = 128, epochs = 50)"
   ]
  },
  {
   "attachments": {},
   "cell_type": "markdown",
   "metadata": {},
   "source": [
    "In the above code, the batchnormalization layer has output shape same as the output shape of the layer on which it is applied. It has 4* number of units as parameters. \n",
    " - 2 * num of units are trainable parameters: These are the $\\gamma$ and $\\beta$ we mentioned above\n",
    " - 2* num of units are the moving average means and variance that are recorded and stored for each unit in a layer to use at inference time "
   ]
  },
  {
   "cell_type": "code",
   "execution_count": 18,
   "metadata": {},
   "outputs": [
    {
     "name": "stdout",
     "output_type": "stream",
     "text": [
      "Epoch 1/50\n",
      "375/375 [==============================] - 1s 978us/step - loss: 1.0821 - accuracy: 0.6931 - val_loss: 0.7050 - val_accuracy: 0.8506\n",
      "Epoch 2/50\n",
      "375/375 [==============================] - 0s 749us/step - loss: 0.5541 - accuracy: 0.8706 - val_loss: 0.4210 - val_accuracy: 0.8968\n",
      "Epoch 3/50\n",
      "375/375 [==============================] - 0s 753us/step - loss: 0.3990 - accuracy: 0.9008 - val_loss: 0.3328 - val_accuracy: 0.9149\n",
      "Epoch 4/50\n",
      "375/375 [==============================] - 0s 754us/step - loss: 0.3275 - accuracy: 0.9145 - val_loss: 0.2796 - val_accuracy: 0.9255\n",
      "Epoch 5/50\n",
      "375/375 [==============================] - 0s 746us/step - loss: 0.2818 - accuracy: 0.9247 - val_loss: 0.2470 - val_accuracy: 0.9321\n",
      "Epoch 6/50\n",
      "375/375 [==============================] - 0s 749us/step - loss: 0.2511 - accuracy: 0.9314 - val_loss: 0.2228 - val_accuracy: 0.9393\n",
      "Epoch 7/50\n",
      "375/375 [==============================] - 0s 750us/step - loss: 0.2278 - accuracy: 0.9366 - val_loss: 0.2082 - val_accuracy: 0.9428\n",
      "Epoch 8/50\n",
      "375/375 [==============================] - 0s 751us/step - loss: 0.2105 - accuracy: 0.9411 - val_loss: 0.1968 - val_accuracy: 0.9451\n",
      "Epoch 9/50\n",
      "375/375 [==============================] - 0s 749us/step - loss: 0.1964 - accuracy: 0.9448 - val_loss: 0.1832 - val_accuracy: 0.9497\n",
      "Epoch 10/50\n",
      "375/375 [==============================] - 0s 748us/step - loss: 0.1840 - accuracy: 0.9479 - val_loss: 0.1776 - val_accuracy: 0.9514\n",
      "Epoch 11/50\n",
      "375/375 [==============================] - 0s 752us/step - loss: 0.1731 - accuracy: 0.9510 - val_loss: 0.1708 - val_accuracy: 0.9533\n",
      "Epoch 12/50\n",
      "375/375 [==============================] - 0s 748us/step - loss: 0.1645 - accuracy: 0.9532 - val_loss: 0.1629 - val_accuracy: 0.9542\n",
      "Epoch 13/50\n",
      "375/375 [==============================] - 0s 753us/step - loss: 0.1565 - accuracy: 0.9557 - val_loss: 0.1592 - val_accuracy: 0.9552\n",
      "Epoch 14/50\n",
      "375/375 [==============================] - 0s 788us/step - loss: 0.1486 - accuracy: 0.9581 - val_loss: 0.1536 - val_accuracy: 0.9563\n",
      "Epoch 15/50\n",
      "375/375 [==============================] - 0s 773us/step - loss: 0.1435 - accuracy: 0.9593 - val_loss: 0.1499 - val_accuracy: 0.9568\n",
      "Epoch 16/50\n",
      "375/375 [==============================] - 0s 755us/step - loss: 0.1383 - accuracy: 0.9605 - val_loss: 0.1469 - val_accuracy: 0.9572\n",
      "Epoch 17/50\n",
      "375/375 [==============================] - 0s 764us/step - loss: 0.1314 - accuracy: 0.9627 - val_loss: 0.1445 - val_accuracy: 0.9580\n",
      "Epoch 18/50\n",
      "375/375 [==============================] - 0s 768us/step - loss: 0.1275 - accuracy: 0.9637 - val_loss: 0.1421 - val_accuracy: 0.9594\n",
      "Epoch 19/50\n",
      "375/375 [==============================] - 0s 771us/step - loss: 0.1239 - accuracy: 0.9641 - val_loss: 0.1395 - val_accuracy: 0.9592\n",
      "Epoch 20/50\n",
      "375/375 [==============================] - 0s 754us/step - loss: 0.1188 - accuracy: 0.9661 - val_loss: 0.1373 - val_accuracy: 0.9602\n",
      "Epoch 21/50\n",
      "375/375 [==============================] - 0s 749us/step - loss: 0.1156 - accuracy: 0.9665 - val_loss: 0.1353 - val_accuracy: 0.9609\n",
      "Epoch 22/50\n",
      "375/375 [==============================] - 0s 751us/step - loss: 0.1123 - accuracy: 0.9679 - val_loss: 0.1335 - val_accuracy: 0.9613\n",
      "Epoch 23/50\n",
      "375/375 [==============================] - 0s 758us/step - loss: 0.1079 - accuracy: 0.9689 - val_loss: 0.1337 - val_accuracy: 0.9608\n",
      "Epoch 24/50\n",
      "375/375 [==============================] - 0s 753us/step - loss: 0.1068 - accuracy: 0.9695 - val_loss: 0.1306 - val_accuracy: 0.9621\n",
      "Epoch 25/50\n",
      "375/375 [==============================] - 0s 748us/step - loss: 0.1029 - accuracy: 0.9703 - val_loss: 0.1292 - val_accuracy: 0.9617\n",
      "Epoch 26/50\n",
      "375/375 [==============================] - 0s 752us/step - loss: 0.1000 - accuracy: 0.9714 - val_loss: 0.1291 - val_accuracy: 0.9628\n",
      "Epoch 27/50\n",
      "375/375 [==============================] - 0s 749us/step - loss: 0.0980 - accuracy: 0.9712 - val_loss: 0.1291 - val_accuracy: 0.9628\n",
      "Epoch 28/50\n",
      "375/375 [==============================] - 0s 752us/step - loss: 0.0948 - accuracy: 0.9728 - val_loss: 0.1275 - val_accuracy: 0.9632\n",
      "Epoch 29/50\n",
      "375/375 [==============================] - 0s 746us/step - loss: 0.0937 - accuracy: 0.9732 - val_loss: 0.1297 - val_accuracy: 0.9631\n",
      "Epoch 30/50\n",
      "375/375 [==============================] - 0s 750us/step - loss: 0.0920 - accuracy: 0.9736 - val_loss: 0.1270 - val_accuracy: 0.9624\n",
      "Epoch 31/50\n",
      "375/375 [==============================] - 0s 755us/step - loss: 0.0885 - accuracy: 0.9748 - val_loss: 0.1262 - val_accuracy: 0.9638\n",
      "Epoch 32/50\n",
      "375/375 [==============================] - 0s 742us/step - loss: 0.0869 - accuracy: 0.9746 - val_loss: 0.1280 - val_accuracy: 0.9624\n",
      "Epoch 33/50\n",
      "375/375 [==============================] - 0s 748us/step - loss: 0.0844 - accuracy: 0.9760 - val_loss: 0.1240 - val_accuracy: 0.9653\n",
      "Epoch 34/50\n",
      "375/375 [==============================] - 0s 745us/step - loss: 0.0837 - accuracy: 0.9761 - val_loss: 0.1229 - val_accuracy: 0.9643\n",
      "Epoch 35/50\n",
      "375/375 [==============================] - 0s 752us/step - loss: 0.0818 - accuracy: 0.9761 - val_loss: 0.1227 - val_accuracy: 0.9647\n",
      "Epoch 36/50\n",
      "375/375 [==============================] - 0s 755us/step - loss: 0.0804 - accuracy: 0.9763 - val_loss: 0.1236 - val_accuracy: 0.9641\n",
      "Epoch 37/50\n",
      "375/375 [==============================] - 0s 756us/step - loss: 0.0783 - accuracy: 0.9773 - val_loss: 0.1240 - val_accuracy: 0.9636\n",
      "Epoch 38/50\n",
      "375/375 [==============================] - 0s 750us/step - loss: 0.0774 - accuracy: 0.9779 - val_loss: 0.1242 - val_accuracy: 0.9649\n",
      "Epoch 39/50\n",
      "375/375 [==============================] - 0s 755us/step - loss: 0.0768 - accuracy: 0.9782 - val_loss: 0.1238 - val_accuracy: 0.9651\n",
      "Epoch 40/50\n",
      "375/375 [==============================] - 0s 758us/step - loss: 0.0749 - accuracy: 0.9785 - val_loss: 0.1211 - val_accuracy: 0.9650\n",
      "Epoch 41/50\n",
      "375/375 [==============================] - 0s 749us/step - loss: 0.0728 - accuracy: 0.9786 - val_loss: 0.1219 - val_accuracy: 0.9650\n",
      "Epoch 42/50\n",
      "375/375 [==============================] - 0s 751us/step - loss: 0.0722 - accuracy: 0.9789 - val_loss: 0.1234 - val_accuracy: 0.9651\n",
      "Epoch 43/50\n",
      "375/375 [==============================] - 0s 750us/step - loss: 0.0705 - accuracy: 0.9800 - val_loss: 0.1239 - val_accuracy: 0.9638\n",
      "Epoch 44/50\n",
      "375/375 [==============================] - 0s 748us/step - loss: 0.0689 - accuracy: 0.9807 - val_loss: 0.1221 - val_accuracy: 0.9644\n",
      "Epoch 45/50\n",
      "375/375 [==============================] - 0s 751us/step - loss: 0.0669 - accuracy: 0.9807 - val_loss: 0.1222 - val_accuracy: 0.9650\n",
      "Epoch 46/50\n",
      "375/375 [==============================] - 0s 751us/step - loss: 0.0657 - accuracy: 0.9814 - val_loss: 0.1226 - val_accuracy: 0.9638\n",
      "Epoch 47/50\n",
      "375/375 [==============================] - 0s 745us/step - loss: 0.0655 - accuracy: 0.9810 - val_loss: 0.1223 - val_accuracy: 0.9647\n",
      "Epoch 48/50\n",
      "375/375 [==============================] - 0s 748us/step - loss: 0.0641 - accuracy: 0.9818 - val_loss: 0.1226 - val_accuracy: 0.9660\n",
      "Epoch 49/50\n",
      "375/375 [==============================] - 0s 752us/step - loss: 0.0627 - accuracy: 0.9819 - val_loss: 0.1243 - val_accuracy: 0.9643\n",
      "Epoch 50/50\n",
      "375/375 [==============================] - 0s 758us/step - loss: 0.0622 - accuracy: 0.9824 - val_loss: 0.1245 - val_accuracy: 0.9650\n"
     ]
    }
   ],
   "source": [
    "m7 = model.fit(X_train, Y_train, validation_split = 0.2, batch_size = 128, epochs = 50)"
   ]
  },
  {
   "cell_type": "code",
   "execution_count": 19,
   "metadata": {},
   "outputs": [
    {
     "data": {
      "text/plain": [
       "<matplotlib.legend.Legend at 0x30ad218d0>"
      ]
     },
     "execution_count": 19,
     "metadata": {},
     "output_type": "execute_result"
    },
    {
     "data": {
      "text/plain": [
       "<Figure size 20000x500 with 0 Axes>"
      ]
     },
     "metadata": {},
     "output_type": "display_data"
    },
    {
     "data": {
      "image/png": "[encoded data removed]",
      "text/plain": [
       "<Figure size 640x480 with 1 Axes>"
      ]
     },
     "metadata": {},
     "output_type": "display_data"
    }
   ],
   "source": [
    "plt.figure(figsize = (200,5))\n",
    "fig, ax = plt.subplots()\n",
    "ax.plot(m1.history['val_accuracy'], label = 'dense layer')\n",
    "ax.plot(m0.history['val_accuracy'], label  = 'no dense layer')\n",
    "ax.plot(m2.history['val_accuracy'], label  = 'two  dense layer SGD')\n",
    "ax.plot(m3.history['val_accuracy'], label  = 'two  dense layer and dropout')\n",
    "ax.plot(m4.history['val_accuracy'], label  = 'two  dense layer Adam')\n",
    "ax.plot(m5.history['val_accuracy'], label  = 'two  dense layer RMSProp')\n",
    "ax.plot(m6.history['val_accuracy'], label  = 'two  dense layer SGD regularization')\n",
    "ax.plot(m7.history['val_accuracy'], label  = 'two  dense layer with Batch Norm and SGD')\n",
    "\n",
    "ax.set_ylabel('Validation loss')\n",
    "plt.legend()"
   ]
  },
  {
   "attachments": {},
   "cell_type": "markdown",
   "metadata": {},
   "source": [
    "## Sentiment Analysis"
   ]
  },
  {
   "cell_type": "code",
   "execution_count": 3,
   "metadata": {},
   "outputs": [],
   "source": [
    "import tensorflow as tf\n",
    "from tensorflow import keras\n",
    "import numpy as np\n",
    "from typing import List"
   ]
  },
  {
   "cell_type": "code",
   "execution_count": 4,
   "metadata": {},
   "outputs": [],
   "source": [
    "(X_train,Y_train), (X_test, Y_test) = keras.datasets.imdb.load_data(num_words = 10_000)"
   ]
  },
  {
   "cell_type": "code",
   "execution_count": 5,
   "metadata": {},
   "outputs": [
    {
     "name": "stdout",
     "output_type": "stream",
     "text": [
      "X_train.shape=  (25000,) , X_test.shape = (25000,)\n"
     ]
    },
    {
     "data": {
      "text/plain": [
       "[1, 14, 22, 16, 43]"
      ]
     },
     "execution_count": 5,
     "metadata": {},
     "output_type": "execute_result"
    }
   ],
   "source": [
    "print(f\"{X_train.shape=  } , {X_test.shape = }\"  )\n",
    "\n",
    "# This is how each record in the X_train looks like\n",
    "# each word is represented by the word frequency. Meaning the second word in the ```X_train[0]``` is 14th most frequent word in the corpus\n",
    "X_train[0][0:5]\n"
   ]
  },
  {
   "cell_type": "code",
   "execution_count": 6,
   "metadata": {},
   "outputs": [],
   "source": [
    "# Use the default parameters to keras.datasets.imdb.load_data\n",
    "start_char = 1 # This character is used to symbolize that here will the review start from \n",
    "oov_char = 2 # This indicates whether a character is absent from the vocabulary\n",
    "index_from = 3\n",
    "# Retrieve the training sequences.\n",
    "(x_train, _), _ = keras.datasets.imdb.load_data(\n",
    "    start_char=start_char, oov_char=oov_char, index_from=index_from\n",
    ")\n",
    "# Retrieve the word index file mapping words to indices\n",
    "word_index = keras.datasets.imdb.get_word_index()\n",
    "# Reverse the word index to obtain a dict mapping indices to words\n",
    "# And add `index_from` to indices to sync with `x_train`\n",
    "# since we have designated the index 1 and 2 to start and OOV\n",
    "inverted_word_index = dict(\n",
    "    (i + index_from, word) for (word, i) in word_index.items()\n",
    ")\n",
    "# Update `inverted_word_index` to include `start_char` and `oov_char`\n",
    "inverted_word_index[start_char] = \"[START]\"\n",
    "inverted_word_index[oov_char] = \"[OOV]\"\n",
    "# Decode the first sequence in the dataset\n",
    "def decode(inp: list):    \n",
    "    decoded_sequence = \" \".join(inverted_word_index[i] for i in inp)\n",
    "    return decoded_sequence\n"
   ]
  },
  {
   "cell_type": "code",
   "execution_count": 7,
   "metadata": {},
   "outputs": [
    {
     "name": "stdout",
     "output_type": "stream",
     "text": [
      "[START] this has to be one of the worst films of the 1990s when my friends i were watching this film being the target audience it was aimed at we just sat watched the first half an hour with our jaws touching the floor at how bad it really was the rest of the time everyone else in the theatre just started talking to each other leaving or generally crying into their popcorn that they actually paid money they had [OOV] working to watch this feeble excuse for a film it must have looked like a great idea on paper but on film it looks like no one in the film has a clue what is going on crap acting crap costumes i can't get across how [OOV] this is to watch save yourself an hour a bit of your life \n",
      "\n",
      "[START] begins better than it ends funny that the russian submarine crew [OOV] all other actors it's like those scenes where documentary shots br br spoiler part the message [OOV] was contrary to the whole story it just does not [OOV] br br \n",
      "\n",
      "[START] the [OOV] tells the story of the four hamilton siblings teenager francis [OOV] [OOV] twins [OOV] joseph [OOV] [OOV] [OOV] [OOV] the [OOV] david samuel who is now the surrogate parent in charge the [OOV] move house a lot [OOV] is unsure why is unhappy with the way things are the fact that his brother's sister kidnap [OOV] murder people in the basement doesn't help relax or calm [OOV] nerves either francis [OOV] something just isn't right when he eventually finds out the truth things will never be the same again br br co written co produced directed by mitchell [OOV] phil [OOV] as the butcher brothers who's only other film director's credit so far is the april [OOV] day 2008 remake enough said this was one of the [OOV] to die [OOV] at the 2006 after dark [OOV] or whatever it's called in keeping with pretty much all the other's i've seen i thought the [OOV] was complete total utter crap i found the character's really poor very unlikable the slow moving story failed to capture my imagination or sustain my interest over it's 85 a half minute too long [OOV] minute duration the there's the awful twist at the end which had me laughing out loud there's this really big [OOV] build up to what's inside a [OOV] thing in the [OOV] basement it's eventually revealed to be a little boy with a teddy is that really supposed to scare us is that really supposed to shock us is that really something that is supposed to have us talking about it as the end credits roll is a harmless looking young boy the best [OOV] ending that the makers could come up with the boring plot [OOV] along it's never made clear where the [OOV] get all their money from to buy new houses since none of them seem to work except david in a [OOV] i doubt that pays much or why they haven't been caught before now the script tries to mix in every day drama with potent horror it just does a terrible job of combining the two to the extent that neither aspect is memorable or effective a really bad film that i am struggling to say anything good about br br despite being written directed by the extreme sounding butcher brothers there's no gore here there's a bit of blood splatter a few scenes of girls [OOV] up in a basement but nothing you couldn't do at home yourself with a bottle of [OOV] [OOV] a camcorder the film is neither scary since it's got a very middle class suburban setting there's zero atmosphere or mood there's a lesbian suggest incestuous kiss but the [OOV] is low on the exploitation scale there's not much here for the horror crowd br br filmed in [OOV] in california this has that modern low budget look about it it's not badly made but rather forgettable the acting by an unknown to me cast is nothing to write home about i can't say i ever felt anything for anyone br br the [OOV] commits the [OOV] sin of being both dull boring from which it never [OOV] add to that an ultra thin story no gore a rubbish ending character's who you don't give a toss about you have a film that did not impress me at all \n",
      "\n"
     ]
    }
   ],
   "source": [
    "for i in [2,5,7]:\n",
    "    print(decode(X_train[i]), \"\\n\")"
   ]
  },
  {
   "cell_type": "code",
   "execution_count": 8,
   "metadata": {},
   "outputs": [
    {
     "name": "stdout",
     "output_type": "stream",
     "text": [
      "len of first 5 comments [218, 189, 141, 550, 147]\n",
      "\n"
     ]
    }
   ],
   "source": [
    "# Input will be fed into a neural network and the lengths of the input should be same.\n",
    "print(f\"len of first 5 comments {[len(x) for x in X_train][0:5]}\\n\")\n",
    "\n",
    "# padding is done using the tf.keras.preprocessing --> It is similar to sklearn preprocessing stuff\n",
    "X_train_padded = keras.preprocessing.sequence.pad_sequences(sequences = X_train,maxlen=200)\n",
    "X_test_padded  = keras.preprocessing.sequence.pad_sequences(sequences = X_test,maxlen=200)\n",
    "\n",
    "# lets understand the padding\n",
    "# for one where len > max_len\n",
    "# in such cases first n-maxlen elements are chipped off of the array\n",
    "assert np.all(np.equal(np.array(X_train_padded[0,:]), np.array(X_train[0][len(X_train[0])- 200:])))\n",
    "# for one where len < max_len\n",
    "# They are padded with zeros in the beginning\n",
    "assert np.all(X_train[1] == X_train_padded[1,200-len((X_train[1])):])"
   ]
  },
  {
   "attachments": {},
   "cell_type": "markdown",
   "metadata": {},
   "source": [
    "### Understand the concept of embedding layer\n",
    " - Embedding layer is similar to a lookup table. \n",
    " - The embeddings are learnt in the process of accomplishing a task"
   ]
  },
  {
   "cell_type": "code",
   "execution_count": 12,
   "metadata": {},
   "outputs": [
    {
     "name": "stdout",
     "output_type": "stream",
     "text": [
      "Model: \"sequential\"\n",
      "_________________________________________________________________\n",
      " Layer (type)                Output Shape              Param #   \n",
      "=================================================================\n",
      " embedding (Embedding)       (None, 2, 5)              50        \n",
      "                                                                 \n",
      "=================================================================\n",
      "Total params: 50 (200.00 Byte)\n",
      "Trainable params: 50 (200.00 Byte)\n",
      "Non-trainable params: 0 (0.00 Byte)\n",
      "_________________________________________________________________\n"
     ]
    }
   ],
   "source": [
    "from keras.layers import Embedding\n",
    "from keras import layers\n",
    "keras.utils.set_random_seed(42)\n",
    "model = keras.Sequential(\n",
    "    [\n",
    "        layers.Input(shape = (2,)),\n",
    "        # input_dim = number of terms to be embedded | Output_dim = dimension of embedding | input_length = number of terms in the input to the layer\n",
    "        Embedding(input_dim=10, output_dim=5, input_length=100)\n",
    "    ]\n",
    ")\n",
    "model.summary()\n",
    "model.compile(loss = 'mse', optimizer = 'sgd')"
   ]
  },
  {
   "cell_type": "code",
   "execution_count": 13,
   "metadata": {},
   "outputs": [
    {
     "data": {
      "text/html": [
       "<div>\n",
       "<style scoped>\n",
       "    table.matreprmatrix caption {\n",
       "        white-space: pre;\n",
       "        text-align: center;\n",
       "    }\n",
       "    table.matreprmatrix  {\n",
       "        border-collapse: collapse;\n",
       "    }\n",
       "    table.matreprmatrix > thead  {\n",
       "        border: 0px;\n",
       "    }\n",
       "    table.matreprmatrix > tbody tr th {\n",
       "        font-size: smaller;\n",
       "        vertical-align: middle;\n",
       "        text-align: right;\n",
       "    }\n",
       "    table.matreprmatrix > thead tr th {\n",
       "        font-size: smaller;\n",
       "        vertical-align: middle;\n",
       "        text-align: center;\n",
       "    }\n",
       "    table.matreprmatrix > tbody tr td {\n",
       "        vertical-align: middle;\n",
       "        text-align: center;\n",
       "        position: relative;\n",
       "    }\n",
       "    table.matreprmatrix > tbody tr td:first-of-type {\n",
       "        border-left: solid 2px;\n",
       "    }\n",
       "    table.matreprmatrix > tbody tr td:last-of-type {\n",
       "        border-right: solid 2px;\n",
       "    }\n",
       "    table.matreprmatrix > tbody tr td:empty::before {\n",
       "        content: \"\\00a0\\00a0\\00a0\";\n",
       "        visibility: hidden;\n",
       "    }\n",
       "    table.matreprmatrix > tbody tr td:empty::after {\n",
       "        content: \"\\00a0\\00a0\\00a0\";\n",
       "        visibility: hidden;\n",
       "    }\n",
       "    table.matreprmatrix > tbody > tr:first-child > td:first-of-type::before {\n",
       "        content: \"\";\n",
       "        width: 4px;\n",
       "        position: absolute;\n",
       "        top: 0;\n",
       "        bottom: 0;\n",
       "        visibility: visible;\n",
       "        left: 0;\n",
       "        right: auto;\n",
       "        border-top: solid 2px;\n",
       "    }\n",
       "    table.matreprmatrix > tbody > tr:last-child > td:first-of-type::before {\n",
       "        content: \"\";\n",
       "        width: 4px;\n",
       "        position: absolute;\n",
       "        top: 0;\n",
       "        bottom: 0;\n",
       "        visibility: visible;\n",
       "        left: 0;\n",
       "        right: auto;\n",
       "        border-bottom: solid 2px;\n",
       "    }\n",
       "    table.matreprmatrix > tbody > tr:first-child > td:last-of-type::after {\n",
       "        content: \"\";\n",
       "        width: 4px;\n",
       "        position: absolute;\n",
       "        top: 0;\n",
       "        bottom: 0;\n",
       "        visibility: visible;\n",
       "        left: auto;\n",
       "        right: 0;\n",
       "        border-top: solid 2px;\n",
       "    }\n",
       "    table.matreprmatrix > tbody > tr:last-child > td:last-of-type::after {\n",
       "        content: \"\";\n",
       "        width: 4px;\n",
       "        position: absolute;\n",
       "        top: 0;\n",
       "        bottom: 0;\n",
       "        visibility: visible;\n",
       "        left: auto;\n",
       "        right: 0;\n",
       "        border-bottom: solid 2px;\n",
       "    }\n",
       "    table.matreprtensor caption {\n",
       "        white-space: pre;\n",
       "        text-align: center;\n",
       "    }\n",
       "    table.matreprtensor > thead  {\n",
       "        border: 0px;\n",
       "    }\n",
       "    table.matreprtensor > tbody tr th {\n",
       "        font-size: smaller;\n",
       "        vertical-align: middle;\n",
       "        text-align: right;\n",
       "    }\n",
       "    table.matreprtensor > thead tr th {\n",
       "        font-size: smaller;\n",
       "        vertical-align: middle;\n",
       "        text-align: center;\n",
       "    }\n",
       "    table.matreprtensor > tbody tr td {\n",
       "        vertical-align: middle;\n",
       "        text-align: center;\n",
       "        position: relative;\n",
       "    }\n",
       "    table.matreprtensor > tbody tr th:last-of-type {\n",
       "        border-right: solid 2px;\n",
       "    }\n",
       "</style>\n",
       "<table class=\"matreprmatrix\">\n",
       "<caption>Embedding weights</caption>\n",
       "    <thead>\n",
       "    <tr>\n",
       "        <th></th>\n",
       "        <th style=\"text-align: center;\">0</th>\n",
       "        <th style=\"text-align: center;\">1</th>\n",
       "        <th style=\"text-align: center;\">2</th>\n",
       "        <th style=\"text-align: center;\">3</th>\n",
       "        <th style=\"text-align: center;\">4</th>\n",
       "    </tr>\n",
       "    </thead>\n",
       "    <tbody>\n",
       "    <tr>\n",
       "        <th>0</th>\n",
       "        <td style=\"text-align: center;\">0.03581891</td>\n",
       "        <td style=\"text-align: center;\">0.016262855</td>\n",
       "        <td style=\"text-align: center;\">-0.014128923</td>\n",
       "        <td style=\"text-align: center;\">0.044998955</td>\n",
       "        <td style=\"text-align: center;\">-0.04219389</td>\n",
       "    </tr>\n",
       "    <tr>\n",
       "        <th>1</th>\n",
       "        <td style=\"text-align: center;\">0.01523323</td>\n",
       "        <td style=\"text-align: center;\">0.047049988</td>\n",
       "        <td style=\"text-align: center;\">-0.033208787</td>\n",
       "        <td style=\"text-align: center;\">0.0023789294</td>\n",
       "        <td style=\"text-align: center;\">0.013075959</td>\n",
       "    </tr>\n",
       "    <tr>\n",
       "        <th>2</th>\n",
       "        <td style=\"text-align: center;\">-0.041358173</td>\n",
       "        <td style=\"text-align: center;\">-0.0053642504</td>\n",
       "        <td style=\"text-align: center;\">0.04660337</td>\n",
       "        <td style=\"text-align: center;\">-0.0029658899</td>\n",
       "        <td style=\"text-align: center;\">0.00029463693</td>\n",
       "    </tr>\n",
       "    <tr>\n",
       "        <th>3</th>\n",
       "        <td style=\"text-align: center;\">0.026566599</td>\n",
       "        <td style=\"text-align: center;\">-0.048117008</td>\n",
       "        <td style=\"text-align: center;\">-0.03076191</td>\n",
       "        <td style=\"text-align: center;\">0.0014241561</td>\n",
       "        <td style=\"text-align: center;\">-0.04335753</td>\n",
       "    </tr>\n",
       "    <tr>\n",
       "        <th>4</th>\n",
       "        <td style=\"text-align: center;\">-0.0462355</td>\n",
       "        <td style=\"text-align: center;\">0.03479666</td>\n",
       "        <td style=\"text-align: center;\">0.041542795</td>\n",
       "        <td style=\"text-align: center;\">-0.023745919</td>\n",
       "        <td style=\"text-align: center;\">0.03595319</td>\n",
       "    </tr>\n",
       "    <tr>\n",
       "        <th>5</th>\n",
       "        <td style=\"text-align: center;\">-0.037252545</td>\n",
       "        <td style=\"text-align: center;\">-0.0037714615</td>\n",
       "        <td style=\"text-align: center;\">0.0062721856</td>\n",
       "        <td style=\"text-align: center;\">0.006669186</td>\n",
       "        <td style=\"text-align: center;\">-0.029983794</td>\n",
       "    </tr>\n",
       "    <tr>\n",
       "        <th>6</th>\n",
       "        <td style=\"text-align: center;\">-0.02903073</td>\n",
       "        <td style=\"text-align: center;\">0.04891639</td>\n",
       "        <td style=\"text-align: center;\">-0.039010704</td>\n",
       "        <td style=\"text-align: center;\">-0.00563867</td>\n",
       "        <td style=\"text-align: center;\">-0.023491144</td>\n",
       "    </tr>\n",
       "    <tr>\n",
       "        <th>7</th>\n",
       "        <td style=\"text-align: center;\">-0.037897874</td>\n",
       "        <td style=\"text-align: center;\">0.0233143</td>\n",
       "        <td style=\"text-align: center;\">-0.031765938</td>\n",
       "        <td style=\"text-align: center;\">0.018129576</td>\n",
       "        <td style=\"text-align: center;\">0.015041899</td>\n",
       "    </tr>\n",
       "    <tr>\n",
       "        <th>8</th>\n",
       "        <td style=\"text-align: center;\">-0.04573692</td>\n",
       "        <td style=\"text-align: center;\">0.006363582</td>\n",
       "        <td style=\"text-align: center;\">-0.016587831</td>\n",
       "        <td style=\"text-align: center;\">-0.011315323</td>\n",
       "        <td style=\"text-align: center;\">0.045452144</td>\n",
       "    </tr>\n",
       "    <tr>\n",
       "        <th>9</th>\n",
       "        <td style=\"text-align: center;\">-0.0089605935</td>\n",
       "        <td style=\"text-align: center;\">0.0031470172</td>\n",
       "        <td style=\"text-align: center;\">-0.024468029</td>\n",
       "        <td style=\"text-align: center;\">-0.037718285</td>\n",
       "        <td style=\"text-align: center;\">0.021582995</td>\n",
       "    </tr>\n",
       "    </tbody>\n",
       "</table>\n",
       "</div>"
      ],
      "text/plain": [
       "<IPython.core.display.HTML object>"
      ]
     },
     "metadata": {},
     "output_type": "display_data"
    },
    {
     "name": "stdout",
     "output_type": "stream",
     "text": [
      "1/1 [==============================] - 0s 31ms/step\n"
     ]
    },
    {
     "data": {
      "text/plain": [
       "array([[ 0.01523323,  0.04704999, -0.03320879,  0.00237893,  0.01307596],\n",
       "       [-0.04135817, -0.00536425,  0.04660337, -0.00296589,  0.00029464]],\n",
       "      dtype=float32)"
      ]
     },
     "execution_count": 13,
     "metadata": {},
     "output_type": "execute_result"
    }
   ],
   "source": [
    "# input data is a 2 dimensional numpy array\n",
    "input_data = np.array([[1,2]])\n",
    "# Lets get the embeddings\n",
    "mdisplay(model.layers[0].get_weights()[0], title = 'Embedding weights')\n",
    "# lets predict the data for the input --> Its simply a\n",
    "model.predict(input_data)[0]"
   ]
  },
  {
   "attachments": {},
   "cell_type": "markdown",
   "metadata": {},
   "source": [
    "### Understand the concept of global max pooling layer\n",
    "- global max pooling is a way to summarize the embedded input.\n",
    "\n",
    "- $\\vec{o} = Itemwise (Max(\\vec{I_1},\\vec{I_2},\\vec{I_3}......\\vec{I_n}))$\n"
   ]
  },
  {
   "cell_type": "code",
   "execution_count": 14,
   "metadata": {},
   "outputs": [
    {
     "name": "stdout",
     "output_type": "stream",
     "text": [
      "Model: \"sequential_1\"\n",
      "_________________________________________________________________\n",
      " Layer (type)                Output Shape              Param #   \n",
      "=================================================================\n",
      " E1 (Embedding)              (None, 2, 5)              50        \n",
      "                                                                 \n",
      " global_max_pooling1d (Glob  (None, 5)                 0         \n",
      " alMaxPooling1D)                                                 \n",
      "                                                                 \n",
      "=================================================================\n",
      "Total params: 50 (200.00 Byte)\n",
      "Trainable params: 50 (200.00 Byte)\n",
      "Non-trainable params: 0 (0.00 Byte)\n",
      "_________________________________________________________________\n"
     ]
    }
   ],
   "source": [
    "from keras.layers import Embedding\n",
    "from keras.layers import GlobalMaxPooling1D\n",
    "keras.utils.set_random_seed(42)\n",
    "model = keras.Sequential(\n",
    "    [\n",
    "        layers.Input(shape = (2,)),\n",
    "        # input_dim = number of terms to be embedded | Output_dim = dimension of embedding | input_length = number of terms in the input to the layer\n",
    "        Embedding(input_dim=10, output_dim=5, input_length=2, name = 'E1'),\n",
    "        GlobalMaxPooling1D()\n",
    "        \n",
    "    ]\n",
    ")\n",
    "model.summary()\n",
    "model.compile(loss = 'mse', optimizer = 'sgd')"
   ]
  },
  {
   "cell_type": "code",
   "execution_count": 29,
   "metadata": {},
   "outputs": [
    {
     "name": "stdout",
     "output_type": "stream",
     "text": [
      "1/1 [==============================] - 0s 18ms/step\n"
     ]
    }
   ],
   "source": [
    "# element wise max of the arrays\n",
    "assert np.all(np.max(model.layers[0].get_weights()[0][[1,2],:], axis = 0) == model.predict(np.array([[1,2]])))"
   ]
  },
  {
   "cell_type": "markdown",
   "metadata": {},
   "source": [
    "### Back to IMDB"
   ]
  },
  {
   "cell_type": "code",
   "execution_count": 30,
   "metadata": {},
   "outputs": [],
   "source": [
    "from sklearn.model_selection import train_test_split\n",
    "train_x, val_x, train_y, val_y = train_test_split(X_train_padded,Y_train, train_size=0.8, random_state=42)"
   ]
  },
  {
   "cell_type": "code",
   "execution_count": 31,
   "metadata": {},
   "outputs": [
    {
     "name": "stdout",
     "output_type": "stream",
     "text": [
      "Model: \"sequential_10\"\n",
      "_________________________________________________________________\n",
      " Layer (type)                Output Shape              Param #   \n",
      "=================================================================\n",
      " embedding_1 (Embedding)     (None, 200, 10)           100000    \n",
      "                                                                 \n",
      " global_average_pooling1d (  (None, 10)                0         \n",
      " GlobalAveragePooling1D)                                         \n",
      "                                                                 \n",
      " dense (Dense)               (None, 128)               1408      \n",
      "                                                                 \n",
      " dense_1 (Dense)             (None, 1)                 129       \n",
      "                                                                 \n",
      "=================================================================\n",
      "Total params: 101537 (396.63 KB)\n",
      "Trainable params: 101537 (396.63 KB)\n",
      "Non-trainable params: 0 (0.00 Byte)\n",
      "_________________________________________________________________\n"
     ]
    }
   ],
   "source": [
    "from keras import layers\n",
    "# Each row is a review \n",
    "# create the model\n",
    "model = tf.keras.Sequential(\n",
    "    [\n",
    "        layers.Input(shape = (200,)),\n",
    "        layers.Embedding(input_dim = 10000,output_dim = 10,input_length = 200),\n",
    "        layers.GlobalAvgPool1D(),\n",
    "        layers.Dense(128, activation='relu'),\n",
    "        layers.Dense(1, activation='sigmoid')   \n",
    "    ]\n",
    ")\n",
    "model.compile(optimizer = 'adam', loss = 'binary_crossentropy', metrics = ['accuracy'])\n",
    "model.summary()\n",
    "sa_1 = model.fit(train_x, train_y, epochs = 50, batch_size = 256, validation_data=(val_x, val_y), verbose = False)"
   ]
  },
  {
   "cell_type": "code",
   "execution_count": 32,
   "metadata": {},
   "outputs": [
    {
     "name": "stdout",
     "output_type": "stream",
     "text": [
      "X_train_padded.shape = (25000, 200)\n",
      "Model: \"sequential_11\"\n",
      "_________________________________________________________________\n",
      " Layer (type)                Output Shape              Param #   \n",
      "=================================================================\n",
      " embedding_2 (Embedding)     (None, 200, 10)           100000    \n",
      "                                                                 \n",
      " global_average_pooling1d_1  (None, 10)                0         \n",
      "  (GlobalAveragePooling1D)                                       \n",
      "                                                                 \n",
      " dense_2 (Dense)             (None, 128)               1408      \n",
      "                                                                 \n",
      " dense_3 (Dense)             (None, 1)                 129       \n",
      "                                                                 \n",
      "=================================================================\n",
      "Total params: 101537 (396.63 KB)\n",
      "Trainable params: 101537 (396.63 KB)\n",
      "Non-trainable params: 0 (0.00 Byte)\n",
      "_________________________________________________________________\n"
     ]
    }
   ],
   "source": [
    "# Above model has a clear case of overfitting. Lets improve it\n",
    "from keras import layers\n",
    "# Each row is a review \n",
    "print(f\"{X_train_padded.shape = }\")\n",
    "# create the model\n",
    "model = tf.keras.Sequential(\n",
    "    [\n",
    "        layers.Input(shape = (200,)),\n",
    "        layers.Embedding(input_dim = 10000,output_dim = 10,input_length = 200),\n",
    "        layers.GlobalAvgPool1D(),\n",
    "        layers.Dense(128, activation='relu', activity_regularizer=l1(0.05), bias_regularizer=l1(0.05)),\n",
    "        layers.Dense(1, activation='sigmoid')   \n",
    "    ]\n",
    ")\n",
    "model.compile(optimizer = 'adam', loss = 'binary_crossentropy', metrics = ['accuracy'])\n",
    "model.summary()\n",
    "sa_2 =model.fit(train_x, train_y, epochs = 50, batch_size = 256, validation_data=(val_x, val_y), verbose = False)"
   ]
  },
  {
   "cell_type": "code",
   "execution_count": 33,
   "metadata": {},
   "outputs": [
    {
     "name": "stdout",
     "output_type": "stream",
     "text": [
      "X_train_padded.shape = (25000, 200)\n",
      "Model: \"sequential_12\"\n",
      "_________________________________________________________________\n",
      " Layer (type)                Output Shape              Param #   \n",
      "=================================================================\n",
      " embedding_3 (Embedding)     (None, 200, 2)            20000     \n",
      "                                                                 \n",
      " global_average_pooling1d_2  (None, 2)                 0         \n",
      "  (GlobalAveragePooling1D)                                       \n",
      "                                                                 \n",
      " dense_4 (Dense)             (None, 128)               384       \n",
      "                                                                 \n",
      " dense_5 (Dense)             (None, 1)                 129       \n",
      "                                                                 \n",
      "=================================================================\n",
      "Total params: 20513 (80.13 KB)\n",
      "Trainable params: 20513 (80.13 KB)\n",
      "Non-trainable params: 0 (0.00 Byte)\n",
      "_________________________________________________________________\n"
     ]
    }
   ],
   "source": [
    "# Above model has a clear case of overfitting. Lets improve it by changing the embedding dimension\n",
    "\n",
    "from keras import layers\n",
    "# Each row is a review \n",
    "print(f\"{X_train_padded.shape = }\")\n",
    "# create the model\n",
    "model = tf.keras.Sequential(\n",
    "    [\n",
    "        layers.Input(shape = (200,)),\n",
    "        layers.Embedding(input_dim = 10000,output_dim = 2,input_length = 200),\n",
    "        layers.GlobalAvgPool1D(),\n",
    "        \n",
    "        layers.Dense(128, activation='relu'),\n",
    "        \n",
    "        layers.Dense(1, activation='sigmoid')   \n",
    "    ]\n",
    ")\n",
    "model.compile(optimizer = 'adam', loss = 'binary_crossentropy', metrics = ['accuracy'])\n",
    "model.summary()\n",
    "sa_3 = model.fit(train_x, train_y, epochs = 50, batch_size = 256, validation_data=(val_x, val_y), verbose = False)"
   ]
  },
  {
   "cell_type": "code",
   "execution_count": 34,
   "metadata": {},
   "outputs": [
    {
     "name": "stdout",
     "output_type": "stream",
     "text": [
      "Model: \"sequential_13\"\n",
      "_________________________________________________________________\n",
      " Layer (type)                Output Shape              Param #   \n",
      "=================================================================\n",
      " dense_6 (Dense)             (None, 128)               25728     \n",
      "                                                                 \n",
      " dense_7 (Dense)             (None, 64)                8256      \n",
      "                                                                 \n",
      " dense_8 (Dense)             (None, 64)                4160      \n",
      "                                                                 \n",
      " dense_9 (Dense)             (None, 1)                 65        \n",
      "                                                                 \n",
      "=================================================================\n",
      "Total params: 38209 (149.25 KB)\n",
      "Trainable params: 38209 (149.25 KB)\n",
      "Non-trainable params: 0 (0.00 Byte)\n",
      "_________________________________________________________________\n"
     ]
    }
   ],
   "source": [
    "# The main takeaway is that the embedding layer is probably the culprit where as I reduce the dimension of embedding, the validation accuracy goes up\n",
    "# Lets train a non-embedding layer model\n",
    "model = tf.keras.Sequential(\n",
    "    [\n",
    "        layers.Input(shape = (200,)),\n",
    "        layers.Dense(128, activation = 'relu'),\n",
    "        layers.Dense(64, activation = 'relu'),\n",
    "        layers.Dense(64, activation = 'relu'),\n",
    "        layers.Dense(1, activation = 'sigmoid')\n",
    "    ]\n",
    ")\n",
    "model.summary()\n",
    "model.compile(optimizer= 'adam', loss = 'binary_crossentropy',metrics = ['accuracy'])\n",
    "sa_4 = model.fit(train_x, train_y, epochs = 50, batch_size = 256, validation_data=(val_x, val_y), verbose = False)"
   ]
  },
  {
   "cell_type": "code",
   "execution_count": 35,
   "metadata": {},
   "outputs": [
    {
     "data": {
      "text/plain": [
       "<Axes: >"
      ]
     },
     "execution_count": 35,
     "metadata": {},
     "output_type": "execute_result"
    },
    {
     "data": {
      "image/png": "[encoded data removed]",
      "text/plain": [
       "<Figure size 640x480 with 1 Axes>"
      ]
     },
     "metadata": {},
     "output_type": "display_data"
    }
   ],
   "source": [
    "sn.lineplot(y= sa_1.history['accuracy'], x = range(1,51,1), label = 'train accuracy-1', color = 'red')\n",
    "sn.lineplot(y= sa_1.history['val_accuracy'], x = range(1,51,1), label = 'val_accuracy-1', color = 'red', linestyle = 'dashed')\n",
    "\n",
    "sn.lineplot(y= sa_2.history['accuracy'], x = range(1,51,1), label = 'train accura-2', color = 'blue')\n",
    "sn.lineplot(y= sa_2.history['val_accuracy'], x = range(1,51,1), label = 'val_accuracy-2', color = 'blue', linestyle = 'dashed')\n",
    "\n",
    "sn.lineplot(y= sa_3.history['accuracy'], x = range(1,51,1), label = 'train accura-3', color = 'green')\n",
    "sn.lineplot(y= sa_3.history['val_accuracy'], x = range(1,51,1), label = 'val_accuracy-3', color = 'green', linestyle = 'dashed')\n",
    "\n",
    "sn.lineplot(y= sa_4.history['accuracy'], x = range(1,51,1), label = 'train accura-4', color = 'black')\n",
    "sn.lineplot(y= sa_4.history['val_accuracy'], x = range(1,51,1), label = 'val_accuracy-4', color = 'black', linestyle = 'dashed')"
   ]
  },
  {
   "attachments": {},
   "cell_type": "markdown",
   "metadata": {},
   "source": [
    "## Gradient descent for regression"
   ]
  },
  {
   "cell_type": "code",
   "execution_count": 36,
   "metadata": {},
   "outputs": [],
   "source": [
    "# Generate data\n",
    "np.random.seed(42)\n",
    "data = np.random.normal(0,1,size = 300).reshape((100,3))\n",
    "train_x = data[:,0:2]\n",
    "train_y = data[:,-1]"
   ]
  },
  {
   "cell_type": "code",
   "execution_count": 37,
   "metadata": {},
   "outputs": [
    {
     "name": "stdout",
     "output_type": "stream",
     "text": [
      "Model: \"sequential_14\"\n",
      "_________________________________________________________________\n",
      " Layer (type)                Output Shape              Param #   \n",
      "=================================================================\n",
      " dense_10 (Dense)            (None, 1)                 3         \n",
      "                                                                 \n",
      "=================================================================\n",
      "Total params: 3 (12.00 Byte)\n",
      "Trainable params: 3 (12.00 Byte)\n",
      "Non-trainable params: 0 (0.00 Byte)\n",
      "_________________________________________________________________\n"
     ]
    }
   ],
   "source": [
    "from keras.optimizers.legacy import Adam\n",
    "adam_instance= Adam(learning_rate=0.009)\n",
    "\n",
    "model  = tf.keras.Sequential(\n",
    "    [\n",
    "        layers.Input(shape = (2,)),\n",
    "        layers.Dense(units = 1, activation = 'linear')\n",
    "    ]\n",
    ")\n",
    "model.summary()\n",
    "model.compile(optimizer = 'sgd', loss = 'mean_squared_error')\n",
    "m1 = model.fit(train_x, train_y, epochs = 1500, batch_size = 128, verbose = False)"
   ]
  },
  {
   "cell_type": "code",
   "execution_count": 38,
   "metadata": {},
   "outputs": [
    {
     "data": {
      "text/plain": [
       "(array([-0.17139918, -0.1477007 ]), 0.06348658358477695)"
      ]
     },
     "execution_count": 38,
     "metadata": {},
     "output_type": "execute_result"
    }
   ],
   "source": [
    "from sklearn.linear_model import LinearRegression\n",
    "LR = LinearRegression(fit_intercept=True)\n",
    "LR.fit(train_x, train_y)\n",
    "LR.coef_,LR.intercept_"
   ]
  },
  {
   "cell_type": "code",
   "execution_count": 39,
   "metadata": {},
   "outputs": [],
   "source": [
    "# Initialize the weights\n",
    "np.random.seed(42)\n",
    "rate = 0.0005\n",
    "\n",
    "# initialize weights\n",
    "def initialize_weight(size):\n",
    "    np.random.seed(42)\n",
    "    return np.random.normal(size = size).reshape(1,size)\n",
    "def get_error(weights):\n",
    "    return train_y.reshape(100,1) - (np.column_stack((train_x,np.ones(len(train_x)))))@(weights.T)\n",
    "\n",
    "def update_weights(error):\n",
    "    delta_w = ((np.column_stack((train_x,np.ones(len(train_x))))).T)@error    \n",
    "    delta_w = (-2/len(train_x))*delta_w\n",
    "    return delta_w.T"
   ]
  },
  {
   "cell_type": "code",
   "execution_count": 40,
   "metadata": {},
   "outputs": [
    {
     "data": {
      "text/plain": [
       "array([[-0.17139918, -0.1477007 ,  0.06348658]])"
      ]
     },
     "execution_count": 40,
     "metadata": {},
     "output_type": "execute_result"
    }
   ],
   "source": [
    "rate = 0.005\n",
    "w_init = initialize_weight(3)\n",
    "\n",
    "for i in range(5000):\n",
    "    e = get_error(w_init)\n",
    "    delta_w = update_weights(e)*rate\n",
    "    w_init = w_init - delta_w\n",
    "w_init"
   ]
  },
  {
   "cell_type": "code",
   "execution_count": 41,
   "metadata": {},
   "outputs": [
    {
     "name": "stdout",
     "output_type": "stream",
     "text": [
      "nn_weights=[-0.17139972746372223, -0.14770102500915527, 0.0634867325425148]\n",
      "LR weights  = [-0.17139918 -0.1477007 ], 0.06348658358477695\n",
      "Numpy gradient descent w_init = array([[-0.17139918, -0.1477007 ,  0.06348658]])\n"
     ]
    }
   ],
   "source": [
    "# lets compare the three coefficients that we just calculated\n",
    "nn_weights = []\n",
    "for a in model.layers[0].get_weights():\n",
    "    for x in a:\n",
    "        nn_weights.append(float(x))\n",
    "print(f\"{nn_weights=}\")\n",
    "print(f\"LR weights  = {LR.coef_}, {LR.intercept_}\")\n",
    "\n",
    "print(f\"Numpy gradient descent {w_init = }\")"
   ]
  },
  {
   "attachments": {},
   "cell_type": "markdown",
   "metadata": {},
   "source": [
    "## Word embeddings"
   ]
  },
  {
   "attachments": {},
   "cell_type": "markdown",
   "metadata": {},
   "source": [
    "- Background\n",
    "    - It all started with One hot encoding. OHE is very naive technique as it does not capture semantic relationship in the data\n",
    "    - After this, vectorization using document as a context came into use. These include techniques as TF-IDF\n",
    "    - Word embeddings use neighboring words as context. \n",
    "        - The main idea behind word embeddings is 'Distributional Hypothesis': Words that occur together in similar context tend to be similar to each other.\n",
    "        - Famous quote: \"You shall know a word by the company it keeps\"\n",
    "\n",
    "- Word Embeddings or distributed representation\n",
    "    - Word2Vec (Continuous bag of words & Skip-gram)   <Link>https://github.com/lihasarora/DeepLearning-NPTEL/blob/new/Embeddings_230925_192837.pdf</Link>\n",
    "    - Glove : \"Global Vectors for word representations\". They are built via unsupervised learning techniques. This is different from the Word2Vec which is a supervised learning technique\n",
    "        - Step 1: Create a word X Context conunt matrix \n",
    "        - Step 2: Perform the SVD to decompose the matrix from Step 1 into two matrices \n",
    "    \n",
    "    <B> The Glove is much more resource intensive than WordtoVec. This is because the entire matrix has to kept in memory to perform factorization."
   ]
  },
  {
   "attachments": {},
   "cell_type": "markdown",
   "metadata": {},
   "source": [
    "### Create embeddings using Gensim\n",
    "     Gensim has an excellent implementation of Word2Vec"
   ]
  },
  {
   "cell_type": "code",
   "execution_count": 3,
   "metadata": {},
   "outputs": [],
   "source": [
    "import gensim.downloader as api\n",
    "from gensim.models import Word2Vec"
   ]
  },
  {
   "attachments": {},
   "cell_type": "markdown",
   "metadata": {},
   "source": [
    "- This trains a custom model on the text8 dataset -->\n",
    "- Parameters used: CBOW model, window size = 5\n",
    "- embedding dimension = 100"
   ]
  },
  {
   "cell_type": "code",
   "execution_count": 4,
   "metadata": {},
   "outputs": [],
   "source": [
    "%%capture\n",
    "dataset = api.load('text8')\n",
    "# very simple api call to create word2vec model\n",
    "model = Word2Vec(dataset)\n",
    "model.save(r\"/Users/sahila/Documents/Sahil_Work/Deep Learning/text8-word2vec.bin\")"
   ]
  },
  {
   "cell_type": "code",
   "execution_count": 5,
   "metadata": {},
   "outputs": [],
   "source": [
    "# KeyedVectors is a datastructure that is a mapping between key and vectors\n",
    "# The keys in this case is a word. However, it can even be a node or a document\n",
    "\n",
    "from gensim.models import KeyedVectors\n",
    "model = KeyedVectors.load(r\"/Users/sahila/Documents/Sahil_Work/Deep Learning/text8-word2vec.bin\")\n",
    "word_vectors = model.wv"
   ]
  },
  {
   "cell_type": "code",
   "execution_count": 6,
   "metadata": {},
   "outputs": [],
   "source": [
    "# Lets take a word  - Say 'King'\n",
    "words = word_vectors.key_to_index.keys()\n",
    "assert \"king\" in words"
   ]
  },
  {
   "attachments": {},
   "cell_type": "markdown",
   "metadata": {},
   "source": [
    "Get the most similar words to word <B> King </B>"
   ]
  },
  {
   "cell_type": "code",
   "execution_count": 7,
   "metadata": {},
   "outputs": [],
   "source": [
    "def get_top_n_similar(w, n= 5):\n",
    "    for i,(word, similarity) in enumerate(word_vectors.most_similar(w)):\n",
    "        if i <n:\n",
    "            print(f\"{word = }, {similarity = :0.2f}\") \n",
    "        else:\n",
    "            pass"
   ]
  },
  {
   "cell_type": "code",
   "execution_count": 8,
   "metadata": {},
   "outputs": [
    {
     "name": "stdout",
     "output_type": "stream",
     "text": [
      "word = 'prince', similarity = 0.76\n",
      "word = 'emperor', similarity = 0.72\n",
      "word = 'throne', similarity = 0.71\n",
      "word = 'queen', similarity = 0.71\n",
      "word = 'kings', similarity = 0.69\n"
     ]
    }
   ],
   "source": [
    "get_top_n_similar('king')"
   ]
  },
  {
   "cell_type": "code",
   "execution_count": 9,
   "metadata": {},
   "outputs": [
    {
     "name": "stdout",
     "output_type": "stream",
     "text": [
      "word = 'inventor', similarity = 0.77\n",
      "word = 'architect', similarity = 0.72\n",
      "word = 'technician', similarity = 0.71\n",
      "word = 'scientist', similarity = 0.70\n",
      "word = 'industrialist', similarity = 0.69\n"
     ]
    }
   ],
   "source": [
    "get_top_n_similar('engineer')"
   ]
  },
  {
   "attachments": {},
   "cell_type": "markdown",
   "metadata": {},
   "source": [
    "get the vectors contributing to the words"
   ]
  },
  {
   "cell_type": "code",
   "execution_count": 10,
   "metadata": {},
   "outputs": [
    {
     "name": "stdout",
     "output_type": "stream",
     "text": [
      "[('queen', 0.6670719981193542), ('empress', 0.6559230089187622), ('prince', 0.6478533148765564), ('emperor', 0.6242853403091431), ('elizabeth', 0.6207744479179382), ('throne', 0.6081936955451965), ('princess', 0.6039698123931885), ('aragon', 0.6007658243179321), ('isabella', 0.5976263284683228), ('daughter', 0.5918189883232117)] \n",
      "\n",
      "[('empress', 0.9246813058853149), ('queen', 0.919299304485321), ('prince', 0.8982629776000977), ('elizabeth', 0.898007333278656), ('emperor', 0.8882798552513123), ('isabella', 0.8811533451080322), ('princess', 0.876758337020874), ('aragon', 0.875553548336029), ('throne', 0.8730996251106262), ('regent', 0.8698657155036926)]\n"
     ]
    }
   ],
   "source": [
    "print(word_vectors.most_similar(positive = ['king','woman'], negative = ['man']),'\\n')\n",
    "print(word_vectors.most_similar_cosmul(positive = ['king','woman'], negative = ['man']))\n",
    "\n",
    "# cosmul refers to the cosine similarity calculated on a log scale.  It is a better measure of similarity as it amplifies the distance between small scores and reduces the distance between large scores"
   ]
  },
  {
   "attachments": {},
   "cell_type": "markdown",
   "metadata": {},
   "source": [
    "## Spam Classification using word embeddings\n",
    " - We will create our own embedding \n",
    " - We will use a third party embedding\n",
    " - We will provide model with 3rd party embedding to start the training (Transfer Learning)"
   ]
  },
  {
   "cell_type": "code",
   "execution_count": 11,
   "metadata": {},
   "outputs": [],
   "source": [
    "# Get the data\n",
    "def download_data(url):\n",
    "    tf.keras.utils.get_file(url.split('/')[-1], url, extract=True, cache_dir=\".\")\n",
    "    # extract = True is important because the file format is zip\n",
    "    # cache_dir = where to store the data. The function automatically creates a 'datasets/' folder and store there \n",
    "    labels, texts = [],[]\n",
    "    with open(\"datasets/SMSSpamCollection\", \"r\") as f:\n",
    "        for line in f:\n",
    "            label,text = line.split('\\t')\n",
    "            labels.append(1 if label == 'spam' else 0)\n",
    "            texts.append(text)\n",
    "    return labels, texts"
   ]
  },
  {
   "cell_type": "code",
   "execution_count": 12,
   "metadata": {},
   "outputs": [],
   "source": [
    "labels, texts = download_data(r\"https://archive.ics.uci.edu/static/public/228/sms+spam+collection.zip\")"
   ]
  },
  {
   "cell_type": "code",
   "execution_count": 13,
   "metadata": {},
   "outputs": [],
   "source": [
    "## Preprocessing\n",
    "def preprocess_data(input_text):\n",
    "    tokenizer = tf.keras.preprocessing.text.Tokenizer()\n",
    "    # during the fit_on_text method, the tokenizer builds vocabulary\n",
    "    tokenizer.fit_on_texts(texts)\n",
    "    # during the texts_to_sequences method, tokenizer convers text to sequences based on the vocabulary it learnt above\n",
    "    text_sequences = tokenizer.texts_to_sequences(texts)\n",
    "    # padding to make sure the length of the review is same\n",
    "    max_seqlen = np.quantile([len(text_sequences[x]) for x in range(len(text_sequences))], 0.95).astype('int')\n",
    "    padded_seq = tf.keras.preprocessing.sequence.pad_sequences(text_sequences,maxlen = max_seqlen)\n",
    "    return tokenizer, text_sequences, padded_seq\n",
    "\n",
    "cat_labels = tf.keras.utils.to_categorical(labels, num_classes = 2)"
   ]
  },
  {
   "cell_type": "code",
   "execution_count": 14,
   "metadata": {},
   "outputs": [
    {
     "name": "stdout",
     "output_type": "stream",
     "text": [
      "PAD PAD PAD PAD PAD PAD PAD PAD PAD PAD PAD PAD PAD PAD PAD PAD PAD PAD PAD PAD PAD PAD lol you forgot it eh yes i'll bring it in babe\n",
      "Lol you forgot it eh ? Yes, I'll bring it in babe\n",
      "\n"
     ]
    }
   ],
   "source": [
    "tokenizer, text_sequences, padded_seq = preprocess_data(texts)\n",
    "# Get the vocabulary of the tokenizer\n",
    "word2idx = tokenizer.word_index\n",
    "# since padding adds 0, we will manually add pad to the mapping\n",
    "word2idx['PAD'] = 0\n",
    "idx2word = tokenizer.index_word\n",
    "idx2word[0] = 'PAD'\n",
    "\n",
    "\n",
    "# Lets reconstruct a review using the tokenized array\n",
    "def reconstruct_using_padded_sequence(idx):\n",
    "    print(' '.join([idx2word[x]  for x in padded_seq[idx]]))\n",
    "    print(texts[idx])\n",
    "    return None\n",
    "\n",
    "reconstruct_using_padded_sequence(1029)"
   ]
  },
  {
   "cell_type": "code",
   "execution_count": 15,
   "metadata": {},
   "outputs": [],
   "source": [
    "def get_first_n_elements_tf_ds(tf_df,n, return_ = False):\n",
    "    i = 0\n",
    "    for element in tf_df:\n",
    "        if i<n:\n",
    "            if return_ == False:\n",
    "                print(element)\n",
    "            else:\n",
    "                return element\n",
    "            i = i+1\n",
    "        else:\n",
    "            break\n",
    "    return None"
   ]
  },
  {
   "cell_type": "code",
   "execution_count": 16,
   "metadata": {},
   "outputs": [
    {
     "name": "stdout",
     "output_type": "stream",
     "text": [
      "(<tf.Tensor: shape=(33,), dtype=int32, numpy=\n",
      "array([   0,    0,    0,    0,    0,    0,    0,    0,    0,    0,    0,\n",
      "          0,    0,   49,  471, 4435,  842,  755,  658,   64,    8, 1327,\n",
      "         88,  123,  351, 1328,  148, 2996, 1329,   67,   58, 4436,  144],\n",
      "      dtype=int32)>, <tf.Tensor: shape=(2,), dtype=float32, numpy=array([1., 0.], dtype=float32)>)\n"
     ]
    }
   ],
   "source": [
    "# Create  Tensorflow dataset: \n",
    "num_records = len(texts)\n",
    "# tensorflow dataset is optimized for parallel processing using tensorflow\n",
    "# the 'from_tensor_slices' is equivalent to using zip() function where two tensors are stitched together\n",
    "dataset = tf.data.Dataset.from_tensor_slices((padded_seq,cat_labels))\n",
    "# Lets look at the first element of this dataset created. \n",
    "# We can see that each element is just a tuple with 2 parts inside\n",
    "get_first_n_elements_tf_ds(dataset,1)\n",
    "dataset = dataset.shuffle(10_000)\n",
    "test_size = num_records//4\n",
    "val_size = (num_records- test_size)//10\n",
    "\n",
    "test_dataset = dataset.take(test_size)\n",
    "val_dataset  = dataset.skip(test_size).take(val_size)\n",
    "train_dataset = dataset.skip(val_size+ test_size)\n",
    "\n",
    "batch_size = 128\n",
    "test_dataset = test_dataset.batch(batch_size, drop_remainder=True)\n",
    "val_dataset = val_dataset.batch(batch_size, drop_remainder=True)\n",
    "train_dataset = train_dataset.batch(batch_size, drop_remainder=True)"
   ]
  },
  {
   "cell_type": "code",
   "execution_count": 17,
   "metadata": {},
   "outputs": [
    {
     "data": {
      "text/plain": [
       "(TensorShape([128, 33]), TensorShape([128, 2]))"
      ]
     },
     "execution_count": 17,
     "metadata": {},
     "output_type": "execute_result"
    }
   ],
   "source": [
    "# after batching, one can see that the first elemebt is not just one record it is rather a group of 128 records which wil go into the \n",
    "# model trianing together to update the graadient \n",
    "element = get_first_n_elements_tf_ds(train_dataset,1, return_  = True)\n",
    "element[0].shape, element[1].shape"
   ]
  },
  {
   "attachments": {},
   "cell_type": "markdown",
   "metadata": {},
   "source": [
    "Building the embedding Matrix"
   ]
  },
  {
   "cell_type": "code",
   "execution_count": 18,
   "metadata": {},
   "outputs": [],
   "source": [
    "# we will download a model from gensim to start off.\n",
    "import gensim.downloader as api\n",
    "import os"
   ]
  },
  {
   "cell_type": "code",
   "execution_count": 19,
   "metadata": {},
   "outputs": [],
   "source": [
    "Embedding_model = 'glove-wiki-gigaword-300'\n",
    "def build_embedding_matrix(embedding_dim,word2idx, \n",
    "                           embedding_file = '/Users/sahila/Documents/Sahil_Work/Deep Learning/E.npy'):\n",
    "    \"\"\"\n",
    "    Creates an embedding for the existing tokens based on the gensim model\n",
    "\n",
    "    Args:\n",
    "        embedding_dim (int): length of the embedding\n",
    "        word2idx (dict): mapping from word to index\n",
    "        embedding_file (str, optional): saves the embedding file Defaults to '/Users/sahila/Documents/Sahil_Work/Deep Learning/E.npy'.\n",
    "\n",
    "    Returns:\n",
    "        np.array: embedding for the tokens\n",
    "    \"\"\"\n",
    "    global Embedding_model\n",
    "    \n",
    "    if os.path.exists(embedding_file):\n",
    "        # numpy can also load files :woah\n",
    "        E = np.load(embedding_file)\n",
    "    else:\n",
    "        word_vectors = api.load(Embedding_model)\n",
    "        E = np.zeros((len(word2idx.keys()),embedding_dim))\n",
    "        j =0\n",
    "        for word, index in word2idx.items():\n",
    "            try:\n",
    "                emb = word_vectors.get_vector(word)\n",
    "                E[index,:] = emb\n",
    "            except :\n",
    "                j=j+1\n",
    "                pass\n",
    "        print(f\"{j} words were not found out of total {len(word2idx)} words\")\n",
    "        np.save(embedding_file, E)\n",
    "    return E"
   ]
  },
  {
   "cell_type": "code",
   "execution_count": 20,
   "metadata": {},
   "outputs": [],
   "source": [
    "E = build_embedding_matrix(300,word2idx)"
   ]
  },
  {
   "attachments": {},
   "cell_type": "markdown",
   "metadata": {},
   "source": [
    "* Defining the Classifier\n",
    "\n",
    "    - We will have 3 modes:\n",
    "\n",
    "        - Scratch: Create embeddings from scratch\n",
    "        - Vectorizer : Use the glove embedding we created above and set trainable = False\n",
    "        - finetuning: Initialize with glove embedding and set trainable = True to finetune the model\n"
   ]
  },
  {
   "cell_type": "code",
   "execution_count": 21,
   "metadata": {},
   "outputs": [
    {
     "name": "stdout",
     "output_type": "stream",
     "text": [
      "Model: \"sequential\"\n",
      "_________________________________________________________________\n",
      " Layer (type)                Output Shape              Param #   \n",
      "=================================================================\n",
      " embedding (Embedding)       (None, 33, 300)           2703000   \n",
      "                                                                 \n",
      " conv1d (Conv1D)             (None, 31, 10)            9010      \n",
      "                                                                 \n",
      " spatial_dropout1d (Spatial  (None, 31, 10)            0         \n",
      " Dropout1D)                                                      \n",
      "                                                                 \n",
      " global_average_pooling1d (  (None, 10)                0         \n",
      " GlobalAveragePooling1D)                                         \n",
      "                                                                 \n",
      " dense (Dense)               (None, 20)                220       \n",
      "                                                                 \n",
      " dense_1 (Dense)             (None, 2)                 42        \n",
      "                                                                 \n",
      "=================================================================\n",
      "Total params: 2712272 (10.35 MB)\n",
      "Trainable params: 2712272 (10.35 MB)\n",
      "Non-trainable params: 0 (0.00 Byte)\n",
      "_________________________________________________________________\n"
     ]
    }
   ],
   "source": [
    "# we are going to build it off of the keras model class. \n",
    "# First, these are the layers we are going to stitch together\n",
    "tf.random.set_seed(45)\n",
    "model = tf.keras.Sequential(\n",
    "    \n",
    "    [   tf.keras.layers.Input(shape=  (33,)),\n",
    "        tf.keras.layers.Embedding(len(word2idx),300, input_length = len(padded_seq[0])),\n",
    "        tf.keras.layers.Conv1D(filters=10, kernel_size = 3),\n",
    "        # Difference between vanilla dropout vs spatialdropout1D\n",
    "        # dropout removes one neuron at a time randomly. SpatialDroput1D randomly drops an entire filter. This is \n",
    "        tf.keras.layers.SpatialDropout1D(0.2),\n",
    "        tf.keras.layers.GlobalAveragePooling1D(),\n",
    "        tf.keras.layers.Dense(units = 20, activation='softmax'),\n",
    "        tf.keras.layers.Dense(units = 2, activation='softmax')\n",
    "        \n",
    "    ]\n",
    ")\n",
    "model.compile(optimizer = \"rmsprop\",loss = \"categorical_crossentropy\")\n",
    "model.summary()"
   ]
  },
  {
   "cell_type": "code",
   "execution_count": 22,
   "metadata": {},
   "outputs": [],
   "source": [
    "# Building a class from tf.keras.Model\n",
    "class SpamCalssifierModel(tf.keras.Model):\n",
    "    # kwargs: Key word arguments. \n",
    "    # constructor\n",
    "    def __init__(self, vocab_sz, embed_sz, run_mode, input_length,embedding_weights,num_filters, kernel_sz,output_sz,**kwargs):\n",
    "        # we want to call the constructor of the superclass of SpamClassifierModel i.e. tf.keras.Model to initialize the \n",
    "        super(SpamCalssifierModel,self).__init__(**kwargs)\n",
    "        if run_mode == 'scratch':\n",
    "            self.embedding = tf.keras.layers.Embedding(vocab_sz, embed_sz,\n",
    "                                                       input_length=input_length,trainable = True)\n",
    "        elif run_mode == \"vectorizer\":\n",
    "            self.embedding = tf.keras.layers.Embedding(vocab_sz, embed_sz,\n",
    "                                                       input_length=input_length,trainable = False, weights = [embedding_weights])  \n",
    "            # self.embedding.set_weights(embedding_weights)\n",
    "        \n",
    "        elif run_mode == \"finetuning\":\n",
    "            self.embedding = tf.keras.layers.Embedding(vocab_sz, embed_sz,\n",
    "                                                       input_length=input_length,trainable = True, weights = [embedding_weights])  \n",
    "            # initialize with the weights\n",
    "            \n",
    "        self.conv = tf.keras.layers.Conv1D(filters=num_filters, kernel_size=kernel_sz,activation=\"relu\")\n",
    "        self.dropout = tf.keras.layers.SpatialDropout1D(0.2)\n",
    "        self.pool = tf.keras.layers.GlobalMaxPooling1D()\n",
    "        self.dense2 = tf.keras.layers.Dense(output_sz,activation=\"softmax\")\n",
    "    \n",
    "    # This is a method that defines the forward pass of the model. This is the method that is called when an input is passed to the model\n",
    "    # This defines how input data should be processed as it passes through the model layers\n",
    "    def call(self,input):\n",
    "        x = self.embedding(input)\n",
    "        x = self.conv(x)\n",
    "        x = self.dropout(x)\n",
    "        x = self.pool(x)\n",
    "        x = self.dense2(x)\n",
    "        return x"
   ]
  },
  {
   "cell_type": "code",
   "execution_count": 23,
   "metadata": {},
   "outputs": [
    {
     "name": "stdout",
     "output_type": "stream",
     "text": [
      "Model: \"spam_calssifier_model\"\n",
      "_________________________________________________________________\n",
      " Layer (type)                Output Shape              Param #   \n",
      "=================================================================\n",
      " embedding_1 (Embedding)     multiple                  2703000   \n",
      "                                                                 \n",
      " conv1d_1 (Conv1D)           multiple                  1537024   \n",
      "                                                                 \n",
      " spatial_dropout1d_1 (Spati  multiple                  0         \n",
      " alDropout1D)                                                    \n",
      "                                                                 \n",
      " global_max_pooling1d (Glob  multiple                  0         \n",
      " alMaxPooling1D)                                                 \n",
      "                                                                 \n",
      " dense_2 (Dense)             multiple                  2050      \n",
      "                                                                 \n",
      "=================================================================\n",
      "Total params: 4242074 (16.18 MB)\n",
      "Trainable params: 4242074 (16.18 MB)\n",
      "Non-trainable params: 0 (0.00 Byte)\n",
      "_________________________________________________________________\n",
      "Epoch 1/3\n",
      "29/29 [==============================] - 4s 131ms/step - loss: 0.6834 - accuracy: 0.8322 - val_loss: 0.1302 - val_accuracy: 0.9635\n",
      "Epoch 2/3\n",
      "29/29 [==============================] - 4s 135ms/step - loss: 0.1055 - accuracy: 0.9852 - val_loss: 0.0285 - val_accuracy: 0.9948\n",
      "Epoch 3/3\n",
      "29/29 [==============================] - 4s 140ms/step - loss: 0.0491 - accuracy: 0.9935 - val_loss: 0.0075 - val_accuracy: 1.0000\n"
     ]
    },
    {
     "data": {
      "text/plain": [
       "<keras.src.callbacks.History at 0x29fc4b950>"
      ]
     },
     "execution_count": 23,
     "metadata": {},
     "output_type": "execute_result"
    }
   ],
   "source": [
    "model1 = SpamCalssifierModel(\n",
    "    vocab_sz= len(word2idx),\n",
    "    embed_sz= 300,\n",
    "    run_mode= 'scratch',\n",
    "    input_length=33,\n",
    "    embedding_weights= E,\n",
    "    num_filters= 1024,\n",
    "    kernel_sz= 5,\n",
    "    output_sz=2\n",
    "    )\n",
    "\n",
    "# The input shape of the model is variable. Meaning, it will be determined based on what input we supply to it.\n",
    "# Build method is executed the first time a forward pass happens\n",
    "# Otherwise, explicitly calling build method ensures that the model is set up properly \n",
    "# The input is easily flowing through the network\n",
    "\n",
    "model1.build(input_shape = (None,33))\n",
    "model1.compile(optimizer=\"adam\", loss = \"categorical_crossentropy\", metrics = ['accuracy'])\n",
    "model1.summary()\n",
    "\n",
    "# output shape  = Multiple measn that the model can handle multiple shapes depending on the input to the model.\n",
    "model1.fit(train_dataset, epochs =3, validation_data=val_dataset, class_weight={0:1, 1:8})\n"
   ]
  },
  {
   "cell_type": "code",
   "execution_count": 24,
   "metadata": {},
   "outputs": [
    {
     "name": "stdout",
     "output_type": "stream",
     "text": [
      "Model: \"spam_calssifier_model_1\"\n",
      "_________________________________________________________________\n",
      " Layer (type)                Output Shape              Param #   \n",
      "=================================================================\n",
      " embedding_2 (Embedding)     multiple                  2703000   \n",
      "                                                                 \n",
      " conv1d_2 (Conv1D)           multiple                  1537024   \n",
      "                                                                 \n",
      " spatial_dropout1d_2 (Spati  multiple                  0         \n",
      " alDropout1D)                                                    \n",
      "                                                                 \n",
      " global_max_pooling1d_1 (Gl  multiple                  0         \n",
      " obalMaxPooling1D)                                               \n",
      "                                                                 \n",
      " dense_3 (Dense)             multiple                  2050      \n",
      "                                                                 \n",
      "=================================================================\n",
      "Total params: 4242074 (16.18 MB)\n",
      "Trainable params: 1539074 (5.87 MB)\n",
      "Non-trainable params: 2703000 (10.31 MB)\n",
      "_________________________________________________________________\n",
      "Epoch 1/3\n",
      "29/29 [==============================] - 2s 78ms/step - loss: 0.4536 - accuracy: 0.8936 - val_loss: 0.0614 - val_accuracy: 0.9818\n",
      "Epoch 2/3\n",
      "29/29 [==============================] - 2s 78ms/step - loss: 0.1323 - accuracy: 0.9733 - val_loss: 0.0169 - val_accuracy: 1.0000\n",
      "Epoch 3/3\n",
      "29/29 [==============================] - 2s 76ms/step - loss: 0.0686 - accuracy: 0.9892 - val_loss: 0.0145 - val_accuracy: 0.9974\n"
     ]
    },
    {
     "data": {
      "text/plain": [
       "<keras.src.callbacks.History at 0x29fc48510>"
      ]
     },
     "execution_count": 24,
     "metadata": {},
     "output_type": "execute_result"
    }
   ],
   "source": [
    "model2 = SpamCalssifierModel(\n",
    "    vocab_sz= len(word2idx),\n",
    "    embed_sz= 300,\n",
    "    run_mode= 'vectorizer',\n",
    "    input_length=33,\n",
    "    embedding_weights= E,\n",
    "    num_filters= 1024,\n",
    "    kernel_sz= 5,\n",
    "    output_sz=2\n",
    "    )\n",
    "model2.build(input_shape = (None,33))\n",
    "model2.compile(optimizer=\"adam\", loss = \"categorical_crossentropy\", metrics = ['accuracy'])\n",
    "model2.summary()\n",
    "model2.fit(train_dataset, epochs =3, validation_data=val_dataset, class_weight={0:1, 1:8})"
   ]
  },
  {
   "cell_type": "code",
   "execution_count": 25,
   "metadata": {},
   "outputs": [
    {
     "name": "stdout",
     "output_type": "stream",
     "text": [
      "Model: \"spam_calssifier_model_2\"\n",
      "_________________________________________________________________\n",
      " Layer (type)                Output Shape              Param #   \n",
      "=================================================================\n",
      " embedding_3 (Embedding)     multiple                  2703000   \n",
      "                                                                 \n",
      " conv1d_3 (Conv1D)           multiple                  1537024   \n",
      "                                                                 \n",
      " spatial_dropout1d_3 (Spati  multiple                  0         \n",
      " alDropout1D)                                                    \n",
      "                                                                 \n",
      " global_max_pooling1d_2 (Gl  multiple                  0         \n",
      " obalMaxPooling1D)                                               \n",
      "                                                                 \n",
      " dense_4 (Dense)             multiple                  2050      \n",
      "                                                                 \n",
      "=================================================================\n",
      "Total params: 4242074 (16.18 MB)\n",
      "Trainable params: 4242074 (16.18 MB)\n",
      "Non-trainable params: 0 (0.00 Byte)\n",
      "_________________________________________________________________\n",
      "Epoch 1/3\n",
      "29/29 [==============================] - 4s 143ms/step - loss: 0.4077 - accuracy: 0.8882 - val_loss: 0.2594 - val_accuracy: 0.8802\n",
      "Epoch 2/3\n",
      "29/29 [==============================] - 4s 149ms/step - loss: 0.1304 - accuracy: 0.9701 - val_loss: 0.0310 - val_accuracy: 0.9922\n",
      "Epoch 3/3\n",
      "29/29 [==============================] - 4s 149ms/step - loss: 0.0360 - accuracy: 0.9962 - val_loss: 0.0072 - val_accuracy: 1.0000\n"
     ]
    },
    {
     "data": {
      "text/plain": [
       "<keras.src.callbacks.History at 0x29fb917d0>"
      ]
     },
     "execution_count": 25,
     "metadata": {},
     "output_type": "execute_result"
    }
   ],
   "source": [
    "model3 = SpamCalssifierModel(\n",
    "    vocab_sz= len(word2idx),\n",
    "    embed_sz= 300,\n",
    "    run_mode= 'finetuning',\n",
    "    input_length=33,\n",
    "    embedding_weights= E,\n",
    "    num_filters= 1024,\n",
    "    kernel_sz= 5,\n",
    "    output_sz=2\n",
    "    )\n",
    "model3.build(input_shape = (None,33))\n",
    "model3.compile(optimizer=\"adam\", loss = \"categorical_crossentropy\", metrics = ['accuracy'])\n",
    "model3.summary()\n",
    "\n",
    "model3.fit(train_dataset, epochs =3, validation_data=val_dataset, class_weight={0:1, 1:8})"
   ]
  },
  {
   "cell_type": "code",
   "execution_count": 26,
   "metadata": {},
   "outputs": [
    {
     "data": {
      "image/png": "[encoded data removed]",
      "text/plain": [
       "<Figure size 640x480 with 1 Axes>"
      ]
     },
     "metadata": {},
     "output_type": "display_data"
    }
   ],
   "source": [
    "\n",
    "sn.lineplot(model1.history.history['val_accuracy'], label = 'Scratch')\n",
    "sn.lineplot(model2.history.history['val_accuracy'], label = 'fixed')\n",
    "sn.lineplot(model3.history.history['val_accuracy'], label = 'finetuned')\n",
    "plt.xticks([0,1,2])\n",
    "plt.show()\n"
   ]
  },
  {
   "cell_type": "code",
   "execution_count": 27,
   "metadata": {},
   "outputs": [
    {
     "name": "stdout",
     "output_type": "stream",
     "text": [
      "Model = Model1\n",
      "              precision    recall  f1-score   support\n",
      "\n",
      "         0.0       1.00      1.00      1.00      1087\n",
      "         1.0       0.98      0.99      0.99       193\n",
      "\n",
      "    accuracy                           1.00      1280\n",
      "   macro avg       0.99      1.00      0.99      1280\n",
      "weighted avg       1.00      1.00      1.00      1280\n",
      "\n",
      "Model = Model2\n",
      "              precision    recall  f1-score   support\n",
      "\n",
      "         0.0       1.00      1.00      1.00      2215\n",
      "         1.0       0.98      1.00      0.99       345\n",
      "\n",
      "    accuracy                           1.00      2560\n",
      "   macro avg       0.99      1.00      0.99      2560\n",
      "weighted avg       1.00      1.00      1.00      2560\n",
      "\n",
      "Model = Model3\n",
      "              precision    recall  f1-score   support\n",
      "\n",
      "         0.0       1.00      1.00      1.00      3315\n",
      "         1.0       0.98      1.00      0.99       525\n",
      "\n",
      "    accuracy                           1.00      3840\n",
      "   macro avg       0.99      1.00      0.99      3840\n",
      "weighted avg       1.00      1.00      1.00      3840\n",
      "\n"
     ]
    }
   ],
   "source": [
    "predictions = np.array([])\n",
    "truelabels = np.array([])\n",
    "i = 1\n",
    "for model_id in [model1, model2, model3]:\n",
    "    for Xtest, Ytest in test_dataset:\n",
    "        Ypredprob = model_id.predict_on_batch(Xtest)\n",
    "        Ypredclass = np.argmax(Ypredprob, axis = 1)\n",
    "        predictions = np.hstack((predictions, Ypredclass))\n",
    "        truelabels = np.hstack((truelabels, np.argmax(Ytest, axis = 1)))\n",
    "        \n",
    "    from sklearn.metrics import classification_report\n",
    "    print(f\"Model = Model{i}\")\n",
    "    print(classification_report(truelabels, predictions))\n",
    "    i = i+1"
   ]
  },
  {
   "attachments": {},
   "cell_type": "markdown",
   "metadata": {},
   "source": [
    "## RNN"
   ]
  },
  {
   "cell_type": "code",
   "execution_count": null,
   "metadata": {},
   "outputs": [],
   "source": []
  }
 ],
 "metadata": {
  "kernelspec": {
   "display_name": ".venv",
   "language": "python",
   "name": "python3"
  },
  "language_info": {
   "codemirror_mode": {
    "name": "ipython",
    "version": 3
   },
   "file_extension": ".py",
   "mimetype": "text/x-python",
   "name": "python",
   "nbconvert_exporter": "python",
   "pygments_lexer": "ipython3",
   "version": "3.11.4"
  },
  "orig_nbformat": 4,
  "vscode": {
   "interpreter": {
    "hash": "da1fda02e7ca0cbcc4168dd1e24c69e3acc43f0a3a4d7789f2759cd061eab153"
   }
  }
 },
 "nbformat": 4,
 "nbformat_minor": 2
}
