{
  "nbformat": 4,
  "nbformat_minor": 0,
  "metadata": {
    "colab": {
      "private_outputs": true,
      "provenance": [],
      "authorship_tag": "ABX9TyPzfqBBVQ7yEZ2Cas9DLBX2",
      "include_colab_link": true
    },
    "kernelspec": {
      "name": "python3",
      "display_name": "Python 3"
    },
    "language_info": {
      "name": "python"
    }
  },
  "cells": [
    {
      "cell_type": "markdown",
      "metadata": {
        "id": "view-in-github",
        "colab_type": "text"
      },
      "source": [
        "<a href=\"https://colab.research.google.com/github/lihasarora/DeepLearning-NPTEL/blob/main/Deep_Learning_01.ipynb\" target=\"_parent\"><img src=\"https://colab.research.google.com/assets/colab-badge.svg\" alt=\"Open In Colab\"/></a>"
      ]
    },
    {
      "cell_type": "code",
      "execution_count": null,
      "metadata": {
        "id": "S8jQ930CqLBp"
      },
      "outputs": [],
      "source": [
        "import pandas as pd\n",
        "import matplotlib.pyplot as plt\n",
        "import seaborn as sn\n",
        "from sklearn.datasets import make_classification\n",
        "import numpy as np"
      ]
    },
    {
      "cell_type": "code",
      "source": [
        "separable = False\n",
        "while not separable:\n",
        "    samples = make_classification(n_samples=100, n_features=2, n_redundant=0, n_informative=1, n_clusters_per_class=1, flip_y=-1)\n",
        "    red = samples[0][samples[1] == 0]\n",
        "    blue = samples[0][samples[1] == 1]\n",
        "    separable = any([red[:, k].max() < blue[:, k].min() or red[:, k].min() > blue[:, k].max() for k in range(2)])\n",
        "plt.plot(red[:, 0], red[:, 1], 'r.')\n",
        "plt.plot(blue[:, 0], blue[:, 1], 'b.')\n",
        "plt.show()"
      ],
      "metadata": {
        "id": "MDlEfilkqOpI"
      },
      "execution_count": null,
      "outputs": []
    },
    {
      "cell_type": "code",
      "source": [
        "df1 = pd.DataFrame(red, columns = ['x1','x2'])\n",
        "df1[\"Class\"] = [0]*len(df1)\n",
        "\n",
        "df2 = pd.DataFrame(blue, columns = ['x1','x2'])\n",
        "df2[\"Class\"] = [1]*len(df2)\n",
        "\n",
        "df = pd.concat([df1,df2], axis = 0)"
      ],
      "metadata": {
        "id": "d04yFUilqrc-"
      },
      "execution_count": null,
      "outputs": []
    },
    {
      "cell_type": "code",
      "source": [
        "df.head()"
      ],
      "metadata": {
        "id": "RFGb9UCS6ZcB"
      },
      "execution_count": null,
      "outputs": []
    },
    {
      "cell_type": "code",
      "source": [
        "sn.scatterplot(x = df.x1, y = df.x2, hue = df.Class)\n",
        "plt.plot([0],[0], marker = 'x', color = 'black')"
      ],
      "metadata": {
        "id": "wdhPlWa0QcBe"
      },
      "execution_count": null,
      "outputs": []
    },
    {
      "cell_type": "code",
      "source": [
        "np.random.seed(30)\n",
        "\n",
        "weight = np.random.normal(0,1,2)\n",
        "\n",
        "def get_plot(weight):\n",
        "  constant_boundry = 0\n",
        "  slope = weight[1]/weight[0]\n",
        "  constant = 0\n",
        "  slope_boundry = -1/slope\n",
        "  xs = list(np.linspace(-1.5,1.5,5))\n",
        "  weight_y = [slope*k+constant for k in xs]\n",
        "  boundry_y = [slope_boundry*k +constant_boundry for k in xs]\n",
        "  sn.scatterplot(x = df.x1, y = df.x2, hue = df.Class)\n",
        "  plt.plot([0],[0], marker = 'x', color = 'black')\n",
        "  plt.plot(xs, weight_y, color = 'red')\n",
        "  plt.plot(xs, boundry_y, color = 'black')\n",
        "  plt.xlim(-2,2)\n",
        "  plt.ylim(-2,2)"
      ],
      "metadata": {
        "id": "2h6TSctLR0zG"
      },
      "execution_count": null,
      "outputs": []
    },
    {
      "cell_type": "code",
      "source": [
        "get_plot(weight)"
      ],
      "metadata": {
        "id": "MWKgPt_Re4Mu"
      },
      "execution_count": null,
      "outputs": []
    },
    {
      "cell_type": "code",
      "source": [
        "# Perceptron learning algorithm\n",
        "for i in range(5000):\n",
        "  # pick a random point\n",
        "  sample = np.array(df.sample(1))[0]\n",
        "  sample_coordinates = sample[0:2]\n",
        "  sample_class = sample[2]\n",
        "  \n",
        "  # check if it is correct\n",
        "  if sample_class ==1:\n",
        "    if np.dot(weight[0:2],sample_coordinates)<=0:\n",
        "      weight[0:2] = weight[0:2]+sample_coordinates\n",
        "      get_plot(weight)\n",
        "      plt.show()\n",
        "  \n",
        "  if sample_class ==0:\n",
        "    if np.dot(weight[0:2],sample_coordinates)>=0:\n",
        "      weight[0:2] = weight[0:2]-sample_coordinates\n",
        "      get_plot(weight)\n",
        "      plt.show()"
      ],
      "metadata": {
        "id": "xWmr5FE_YygE"
      },
      "execution_count": null,
      "outputs": []
    }
  ]
}